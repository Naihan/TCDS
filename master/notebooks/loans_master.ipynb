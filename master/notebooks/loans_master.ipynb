{
 "cells": [
  {
   "cell_type": "markdown",
   "metadata": {},
   "source": [
    "## General Imports"
   ]
  },
  {
   "cell_type": "code",
   "execution_count": 3,
   "metadata": {},
   "outputs": [],
   "source": [
    "import gc\n",
    "from sklearn import *\n",
    "from sklearn.model_selection import RandomizedSearchCV, GridSearchCV\n",
    "from sklearn.metrics import roc_auc_score\n",
    "from sklearn.ensemble import RandomForestClassifier\n",
    "from sklearn.preprocessing import LabelEncoder\n",
    "from sklearn.model_selection import train_test_split\n",
    "from sklearn.tree import DecisionTreeClassifier\n",
    "from sklearn.model_selection import cross_val_score\n",
    "from sklearn.model_selection import StratifiedKFold\n",
    "from datetime import datetime\n",
    "import math\n",
    "from imblearn.over_sampling import RandomOverSampler, SMOTE\n",
    "from imblearn.under_sampling import RandomUnderSampler \n",
    "from sklearn.metrics import roc_curve, auc\n",
    "import numpy as np\n",
    "from collections import Counter\n",
    "import pandas as pd \n",
    "import xgboost as xgb\n",
    "from xgboost import XGBClassifier\n",
    "\n",
    "import os\n",
    "import statsmodels.api as sm \n",
    "\n",
    "import matplotlib.pyplot as plt\n",
    "import seaborn as sns\n",
    "from scipy import stats\n",
    "import missingno as msno\n",
    "\n",
    "from lightgbm import LGBMClassifier\n",
    "import warnings\n",
    "warnings.filterwarnings('ignore')\n",
    "from imblearn.combine import SMOTEENN\n",
    "from imblearn.combine import SMOTETomek\n",
    "import warnings\n",
    "warnings.filterwarnings('ignore')"
   ]
  },
  {
   "cell_type": "markdown",
   "metadata": {},
   "source": [
    "\n",
    "# Function Decleration\n"
   ]
  },
  {
   "cell_type": "code",
   "execution_count": 2,
   "metadata": {},
   "outputs": [],
   "source": [
    "def zscore_outliers(x, cutoff=3.0, return_thresholds=False):\n",
    "    \"\"\"\n",
    "    Return a boolean mask of outliers for a series\n",
    "    using standard deviation, works column-wise.\n",
    "    param nstd:\n",
    "        Set number of standard deviations from the mean\n",
    "        to consider an outlier\n",
    "    :type nstd: ``float``\n",
    "    param return_thresholds:\n",
    "        True returns the lower and upper bounds, good for plotting.\n",
    "        False returns the masked array \n",
    "    :type return_thresholds: ``bool``\n",
    "    \"\"\"\n",
    "    dmean = x.mean()\n",
    "    dsd = x.std()\n",
    "    rng = dsd * cutoff\n",
    "    lower = dmean - rng\n",
    "    upper = dmean + rng\n",
    "    if return_thresholds:\n",
    "        return lower, upper\n",
    "    else:\n",
    "        return [True if z < lower or z > upper else False for z in x]\n",
    "\n",
    "\n",
    "def iqr_outliers(x, k=1.5, return_thresholds=False):\n",
    "    \"\"\"\n",
    "    Return a boolean mask of outliers for a series\n",
    "    using interquartile range, works column-wise.\n",
    "    param k:\n",
    "        some cutoff to multiply by the iqr\n",
    "    :type k: ``float``\n",
    "    param return_thresholds:\n",
    "        True returns the lower and upper bounds, good for plotting.\n",
    "        False returns the masked array \n",
    "    :type return_thresholds: ``bool``\n",
    "    \"\"\"\n",
    "    # calculate interquartile range\n",
    "    q25 = np.percentile(x, 25)\n",
    "    q75 = np.percentile(x, 75)\n",
    "    iqr = q75 - q25\n",
    "    # calculate the outlier cutoff\n",
    "    cut_off = iqr * k\n",
    "    lower, upper = q25 - cut_off, q75 + cut_off\n",
    "    if return_thresholds:\n",
    "        return lower, upper\n",
    "    else: # identify outliers\n",
    "        return [True if z < lower or z > upper else False for z in x]\n",
    "    \n",
    "    \n",
    "def generate_pie_from_df(df, key, title=None, radius=1):\n",
    "    if title is None:\n",
    "        title = key\n",
    "    \n",
    "    lable_list = []\n",
    "    data = df.groupby(key).size()\n",
    "    for label in data.keys().tolist():\n",
    "        list_percent = round(len(df.loc[df[key] == label]) / len(df) * 100)\n",
    "        list_item = str(list_percent) + '%' + ' ' + str(label)\n",
    "        lable_list.append(list_item)  \n",
    "\n",
    "    plt.title(title)\n",
    "    \n",
    "    a = plt.pie(data.tolist(),labels=lable_list, shadow=True, radius=radius)\n",
    "    \n",
    "def generate_ols(y, x):\n",
    "    X2 = sm.add_constant(x)\n",
    "    est = sm.OLS(y, X2)\n",
    "    est2 = est.fit()\n",
    "    print(est2.summary())\n",
    "    \n",
    "def missing_values_table(df):\n",
    "    # Total missing values\n",
    "    mis_val = df.isnull().sum()\n",
    "\n",
    "    # Percentage of missing values\n",
    "    mis_val_percent = 100 * df.isnull().sum() / len(df)\n",
    "\n",
    "    # Make a table with the results\n",
    "    mis_val_table = pd.concat([mis_val, mis_val_percent], axis=1)\n",
    "\n",
    "    # Rename the columns\n",
    "    mis_val_table_ren_columns = mis_val_table.rename(\n",
    "    columns = {0 : 'Missing Values', 1 : '% of Total Values'})\n",
    "\n",
    "    # Sort the table by percentage of missing descending\n",
    "    mis_val_table_ren_columns = mis_val_table_ren_columns[\n",
    "        mis_val_table_ren_columns.iloc[:,1] != 0].sort_values(\n",
    "    '% of Total Values', ascending=False).round(1)\n",
    "\n",
    "    # Print some summary information\n",
    "    print (\"Your selected dataframe has \" + str(df.shape[1]) + \" columns.\\n\"      \n",
    "        \"There are \" + str(mis_val_table_ren_columns.shape[0]) +\n",
    "          \" columns that have missing values.\")\n",
    "\n",
    "    # Return the dataframe with missing information\n",
    "    return mis_val_table_ren_columns\n",
    "    \n",
    "def validate_missing_value(df_full, df, col_name):\n",
    "    col_name_fixed = col_name + \"_NA\"\n",
    "    #generate 0 and 1 column\n",
    "    df[col_name_fixed] = 0\n",
    "    df.loc[(df[col_name].isnull()), [col_name_fixed]] = 1\n",
    "    #generate the ols\n",
    "    X2 = sm.add_constant(df_full)\n",
    "    model = sm.OLS(df[col_name_fixed], X2.astype(float))\n",
    "    results  = model.fit()\n",
    "    df.drop(columns=[col_name_fixed], inplace=True)\n",
    "    return ((results.pvalues < 0.05).value_counts()[1] / len(results.pvalues)) *100\n",
    "    \n",
    "def is_normal_distribution(df):\n",
    "    np.random.seed(28041990)\n",
    "    k2, p = stats.normaltest(df)\n",
    "    print(\"p = {:g}\".format(p))\n",
    "    return p > 1e-3\n",
    "\n",
    "def create_missing_column(df, col):\n",
    "    col_name_miss = col + '_MISSING'\n",
    "    df[col_name_miss] = 0\n",
    "    df.loc[(df[col].isnull()), [col_name_miss]] = 1\n",
    "    df.drop(columns=[col], inplace=True)\n",
    "    \n",
    "def encode_quartile(df, col):\n",
    "    temp_col_name = col + '_tmp'\n",
    "    df[temp_col_name] = \"NA\"\n",
    "    desc = df[col].describe()\n",
    "    int_25 = desc['25%'].astype(int)\n",
    "    int_50 = desc['50%'].astype(int)\n",
    "    int_75 = desc['75%'].astype(int)\n",
    "    \n",
    "    df.loc[(df[col] <= int_25), [temp_col_name]] = 'Q1'\n",
    "    df.loc[(df[col] > int_25) & (df[col] <= int_50), [temp_col_name]] = 'Q2'\n",
    "    df.loc[(df[col] > int_50) & (df[col] <= int_75), [temp_col_name]] = 'Q3'\n",
    "    df.loc[(df[col] > int_75) , [temp_col_name]] = 'Q4'\n",
    "    \n",
    "    #drop original col\n",
    "    df.drop(columns=[col], inplace=True)\n",
    "    #rename the cole to original\n",
    "    df.rename(index=str, columns={temp_col_name: col}, inplace=True)\n",
    "\n",
    "    \n",
    "def feature_importance_table(X, y, cutoff=2):\n",
    "    #lasso\n",
    "    print('running Lasso')\n",
    "    lasso_reg = linear_model.Lasso(alpha=0.1)\n",
    "    lasso_reg.fit(X,y)\n",
    "    \n",
    "    \n",
    "    #random forest\n",
    "    print('running RF')\n",
    "    rnd_reg = RandomForestClassifier()\n",
    "    rnd_reg.fit(X, y)\n",
    "\n",
    "    # GXB\n",
    "    print('running GXB')\n",
    "    xgb_reg = XGBClassifier()\n",
    "    xgb_reg.fit(X, y)\n",
    "    \n",
    "    #create numpy for return data\n",
    "    coaf_df = pd.DataFrame(index=X.columns.tolist()) \n",
    "    coaf_df[\"XGB\"] = 0\n",
    "    coaf_df[\"LASSO\"] = 0\n",
    "    coaf_df[\"RND_FOREST\"] = 0\n",
    "    \n",
    "    #store the data\n",
    "    coaf_df.loc[xgb_reg.feature_importances_ >  0, ['XGB']] = 1\n",
    "    coaf_df.loc[lasso_reg.coef_ != 0, ['LASSO']] = 1\n",
    "    coaf_df.loc[rnd_reg.feature_importances_ > 0.005, ['RND_FOREST']] = 1\n",
    "    coaf_df['SCORE'] = coaf_df.sum(axis=1)\n",
    "    coaf_df = coaf_df.sort_values(by=['SCORE'], ascending=False) \n",
    "    feature_list = coaf_df[coaf_df['SCORE'] >= cutoff].index.tolist()\n",
    "    return coaf_df, xgb_reg, lasso_reg, rnd_reg, feature_list\n",
    "\n",
    "def test_logistic_model(y, y_pred):\n",
    "    results = pd.DataFrame() \n",
    "    results[\"y\"] = y\n",
    "    results[\"y_pred\"] = y_pred\n",
    "    results['summary'] = (results[\"y\"] ^ results[\"y_pred\"]) ^ 1\n",
    "    return results['summary'].sum() / len(results) * 100, results\n",
    "\n",
    "def show_distribution_hist(df, col_name, title, x_lable, y_label, bins=15):\n",
    "    plt.hist(df[col_name] , edgecolor='k', bins=bins)\n",
    "    plt.title(title); \n",
    "    plt.xlabel(x_lable); \n",
    "    plt.ylabel(y_label)\n",
    "\n",
    "def show_distribution_by_col_value(df, src_col, dest_col, title, x_lable, y_label):\n",
    "    data = df.groupby(src_col).size()\n",
    "    for label in data.keys().tolist():\n",
    "        sns.kdeplot(df.loc[df[src_col] == label, dest_col], label = label)\n",
    "    plt.xlabel(x_lable)\n",
    "    plt.ylabel(y_label)\n",
    "    plt.title(title)\n",
    "    \n",
    "\n",
    "\n",
    "def one_hot_by_classify(df, x_label, y_label, max_depth=6):\n",
    "    x_temp_label = x_label + '_tree'\n",
    "\n",
    "    mask = ~df[x_label].isna()\n",
    "    cut_range = range(1,max_depth)\n",
    "\n",
    "    score_ls = []\n",
    "    score_std_ls = []\n",
    "    \n",
    "    for tree_depth in cut_range:\n",
    "        \n",
    "        tree_model = DecisionTreeClassifier(max_depth=tree_depth)\n",
    "        scores = cross_val_score(tree_model, df[x_label][mask].to_frame(), df[y_label][mask], cv=3, scoring='roc_auc')   \n",
    "        score_ls.append(np.mean(scores))\n",
    "        score_std_ls.append(np.std(scores))\n",
    "\n",
    "    temp = pd.concat([pd.Series(cut_range), pd.Series(score_ls), pd.Series(score_std_ls)], axis=1)\n",
    "    temp.columns = ['depth', 'roc_auc_mean', 'roc_auc_std']\n",
    "    best_iteration = temp.nlargest(5, columns=['roc_auc_mean'])['depth'].values[0]\n",
    "    print('{} optimal depth: {}'.format(x_label,best_iteration))\n",
    "    tree_model = DecisionTreeClassifier(max_depth=best_iteration)\n",
    "    tree_model.fit(df[x_label][mask].to_frame(), df[y_label][mask])\n",
    "    df[x_temp_label] = np.nan\n",
    "    df[x_temp_label][mask] = tree_model.predict_proba(df[x_label][mask].to_frame())[:,1] \n",
    "\n",
    "    aaa = pd.concat( [df[mask].groupby([x_temp_label])[x_label].min(),df[mask].groupby([x_temp_label])[x_label].max()], axis=1)\n",
    "\n",
    "\n",
    "    for row in aaa.iterrows():\n",
    "        df.loc[(df[x_temp_label] == row[0]), [x_temp_label]] = '{}-{}'.format(row[1].values[0],row[1].values[1])\n",
    "\n",
    "    df.drop(columns=[x_label], inplace=True)\n",
    "    df.rename(index=str, columns={x_temp_label: x_label}, inplace=True)\n",
    "    df = pd.get_dummies(df, dummy_na=True, columns=[x_label])\n",
    "    return df\n",
    "\n",
    "\n",
    "def explore_missing_values(missing_columns, master_df):\n",
    "    return_df = pd.DataFrame(columns=['ColName','PvaluePercent', 'MssingRowCount', 'MissingRowDefaultedCount', 'PercentOfDefault'])\n",
    "    for col in missing_columns.index.tolist(): \n",
    "        missing_values = validate_missing_value(full_df, master_df, col)\n",
    "        missing_rows = (master_df[master_df[col].isna()])['TARGET']\n",
    "        if len(missing_rows.value_counts()) == 1:\n",
    "            if missing_rows.values[0] == 0:\n",
    "                default_row_count = 0\n",
    "            else:\n",
    "                default_row_count = missing_rows.value_counts()[0]\n",
    "        else:\n",
    "            default_row_count = missing_rows.value_counts()[1]\n",
    "        default_percent = (default_row_count / len(missing_rows)) *100\n",
    "        return_df = return_df.append({'ColName':col\n",
    "                        ,'PvaluePercent' : round(missing_values)\n",
    "                        ,'MssingRowCount':len(missing_rows)\n",
    "                        ,'MissingRowDefaultedCount': default_row_count\n",
    "                        ,'PercentOfDefault' : round(default_percent)} , ignore_index=True)\n",
    "    return return_df\n",
    "       \n",
    "        \n",
    "def timer(start_time=None):\n",
    "    if not start_time:\n",
    "        start_time = datetime.now()\n",
    "        return start_time\n",
    "    elif start_time:\n",
    "        thour, temp_sec = divmod((datetime.now() - start_time).total_seconds(), 3600)\n",
    "        tmin, tsec = divmod(temp_sec, 60)\n",
    "        print('\\n Time taken: %i hours %i minutes and %s seconds.' % (thour, tmin, round(tsec, 2)))"
   ]
  },
  {
   "cell_type": "markdown",
   "metadata": {},
   "source": [
    "## Data Import"
   ]
  },
  {
   "cell_type": "code",
   "execution_count": 674,
   "metadata": {},
   "outputs": [
    {
     "name": "stdout",
     "output_type": "stream",
     "text": [
      "Size of master_df data (307511, 121)\n"
     ]
    }
   ],
   "source": [
    "master_df = pd.read_csv('../data/loans.zip', compression='zip')\n",
    "master_df.drop(columns=['SK_ID_CURR'],inplace=True)\n",
    "print('Size of master_df data', master_df.shape)"
   ]
  },
  {
   "cell_type": "markdown",
   "metadata": {},
   "source": [
    "## Data exploration\n"
   ]
  },
  {
   "cell_type": "markdown",
   "metadata": {},
   "source": [
    "Here we will see the relationships between the various datasets:\n"
   ]
  },
  {
   "cell_type": "code",
   "execution_count": 76,
   "metadata": {},
   "outputs": [
    {
     "data": {
      "text/html": [
       "<div>\n",
       "<style scoped>\n",
       "    .dataframe tbody tr th:only-of-type {\n",
       "        vertical-align: middle;\n",
       "    }\n",
       "\n",
       "    .dataframe tbody tr th {\n",
       "        vertical-align: top;\n",
       "    }\n",
       "\n",
       "    .dataframe thead th {\n",
       "        text-align: right;\n",
       "    }\n",
       "</style>\n",
       "<table border=\"1\" class=\"dataframe\">\n",
       "  <thead>\n",
       "    <tr style=\"text-align: right;\">\n",
       "      <th></th>\n",
       "      <th>SK_ID_CURR</th>\n",
       "      <th>TARGET</th>\n",
       "      <th>NAME_CONTRACT_TYPE</th>\n",
       "      <th>CODE_GENDER</th>\n",
       "      <th>FLAG_OWN_CAR</th>\n",
       "      <th>FLAG_OWN_REALTY</th>\n",
       "      <th>CNT_CHILDREN</th>\n",
       "      <th>AMT_INCOME_TOTAL</th>\n",
       "      <th>AMT_CREDIT</th>\n",
       "      <th>AMT_ANNUITY</th>\n",
       "      <th>...</th>\n",
       "      <th>FLAG_DOCUMENT_18</th>\n",
       "      <th>FLAG_DOCUMENT_19</th>\n",
       "      <th>FLAG_DOCUMENT_20</th>\n",
       "      <th>FLAG_DOCUMENT_21</th>\n",
       "      <th>AMT_REQ_CREDIT_BUREAU_HOUR</th>\n",
       "      <th>AMT_REQ_CREDIT_BUREAU_DAY</th>\n",
       "      <th>AMT_REQ_CREDIT_BUREAU_WEEK</th>\n",
       "      <th>AMT_REQ_CREDIT_BUREAU_MON</th>\n",
       "      <th>AMT_REQ_CREDIT_BUREAU_QRT</th>\n",
       "      <th>AMT_REQ_CREDIT_BUREAU_YEAR</th>\n",
       "    </tr>\n",
       "  </thead>\n",
       "  <tbody>\n",
       "    <tr>\n",
       "      <th>0</th>\n",
       "      <td>100002</td>\n",
       "      <td>1</td>\n",
       "      <td>Cash loans</td>\n",
       "      <td>M</td>\n",
       "      <td>N</td>\n",
       "      <td>Y</td>\n",
       "      <td>0</td>\n",
       "      <td>202500.0</td>\n",
       "      <td>406597.5</td>\n",
       "      <td>24700.5</td>\n",
       "      <td>...</td>\n",
       "      <td>0</td>\n",
       "      <td>0</td>\n",
       "      <td>0</td>\n",
       "      <td>0</td>\n",
       "      <td>0.0</td>\n",
       "      <td>0.0</td>\n",
       "      <td>0.0</td>\n",
       "      <td>0.0</td>\n",
       "      <td>0.0</td>\n",
       "      <td>1.0</td>\n",
       "    </tr>\n",
       "    <tr>\n",
       "      <th>1</th>\n",
       "      <td>100003</td>\n",
       "      <td>0</td>\n",
       "      <td>Cash loans</td>\n",
       "      <td>F</td>\n",
       "      <td>N</td>\n",
       "      <td>N</td>\n",
       "      <td>0</td>\n",
       "      <td>270000.0</td>\n",
       "      <td>1293502.5</td>\n",
       "      <td>35698.5</td>\n",
       "      <td>...</td>\n",
       "      <td>0</td>\n",
       "      <td>0</td>\n",
       "      <td>0</td>\n",
       "      <td>0</td>\n",
       "      <td>0.0</td>\n",
       "      <td>0.0</td>\n",
       "      <td>0.0</td>\n",
       "      <td>0.0</td>\n",
       "      <td>0.0</td>\n",
       "      <td>0.0</td>\n",
       "    </tr>\n",
       "    <tr>\n",
       "      <th>2</th>\n",
       "      <td>100004</td>\n",
       "      <td>0</td>\n",
       "      <td>Revolving loans</td>\n",
       "      <td>M</td>\n",
       "      <td>Y</td>\n",
       "      <td>Y</td>\n",
       "      <td>0</td>\n",
       "      <td>67500.0</td>\n",
       "      <td>135000.0</td>\n",
       "      <td>6750.0</td>\n",
       "      <td>...</td>\n",
       "      <td>0</td>\n",
       "      <td>0</td>\n",
       "      <td>0</td>\n",
       "      <td>0</td>\n",
       "      <td>0.0</td>\n",
       "      <td>0.0</td>\n",
       "      <td>0.0</td>\n",
       "      <td>0.0</td>\n",
       "      <td>0.0</td>\n",
       "      <td>0.0</td>\n",
       "    </tr>\n",
       "    <tr>\n",
       "      <th>3</th>\n",
       "      <td>100006</td>\n",
       "      <td>0</td>\n",
       "      <td>Cash loans</td>\n",
       "      <td>F</td>\n",
       "      <td>N</td>\n",
       "      <td>Y</td>\n",
       "      <td>0</td>\n",
       "      <td>135000.0</td>\n",
       "      <td>312682.5</td>\n",
       "      <td>29686.5</td>\n",
       "      <td>...</td>\n",
       "      <td>0</td>\n",
       "      <td>0</td>\n",
       "      <td>0</td>\n",
       "      <td>0</td>\n",
       "      <td>NaN</td>\n",
       "      <td>NaN</td>\n",
       "      <td>NaN</td>\n",
       "      <td>NaN</td>\n",
       "      <td>NaN</td>\n",
       "      <td>NaN</td>\n",
       "    </tr>\n",
       "    <tr>\n",
       "      <th>4</th>\n",
       "      <td>100007</td>\n",
       "      <td>0</td>\n",
       "      <td>Cash loans</td>\n",
       "      <td>M</td>\n",
       "      <td>N</td>\n",
       "      <td>Y</td>\n",
       "      <td>0</td>\n",
       "      <td>121500.0</td>\n",
       "      <td>513000.0</td>\n",
       "      <td>21865.5</td>\n",
       "      <td>...</td>\n",
       "      <td>0</td>\n",
       "      <td>0</td>\n",
       "      <td>0</td>\n",
       "      <td>0</td>\n",
       "      <td>0.0</td>\n",
       "      <td>0.0</td>\n",
       "      <td>0.0</td>\n",
       "      <td>0.0</td>\n",
       "      <td>0.0</td>\n",
       "      <td>0.0</td>\n",
       "    </tr>\n",
       "  </tbody>\n",
       "</table>\n",
       "<p>5 rows × 122 columns</p>\n",
       "</div>"
      ],
      "text/plain": [
       "   SK_ID_CURR  TARGET NAME_CONTRACT_TYPE CODE_GENDER FLAG_OWN_CAR  \\\n",
       "0      100002       1         Cash loans           M            N   \n",
       "1      100003       0         Cash loans           F            N   \n",
       "2      100004       0    Revolving loans           M            Y   \n",
       "3      100006       0         Cash loans           F            N   \n",
       "4      100007       0         Cash loans           M            N   \n",
       "\n",
       "  FLAG_OWN_REALTY  CNT_CHILDREN  AMT_INCOME_TOTAL  AMT_CREDIT  AMT_ANNUITY  \\\n",
       "0               Y             0          202500.0    406597.5      24700.5   \n",
       "1               N             0          270000.0   1293502.5      35698.5   \n",
       "2               Y             0           67500.0    135000.0       6750.0   \n",
       "3               Y             0          135000.0    312682.5      29686.5   \n",
       "4               Y             0          121500.0    513000.0      21865.5   \n",
       "\n",
       "              ...              FLAG_DOCUMENT_18 FLAG_DOCUMENT_19  \\\n",
       "0             ...                             0                0   \n",
       "1             ...                             0                0   \n",
       "2             ...                             0                0   \n",
       "3             ...                             0                0   \n",
       "4             ...                             0                0   \n",
       "\n",
       "  FLAG_DOCUMENT_20 FLAG_DOCUMENT_21 AMT_REQ_CREDIT_BUREAU_HOUR  \\\n",
       "0                0                0                        0.0   \n",
       "1                0                0                        0.0   \n",
       "2                0                0                        0.0   \n",
       "3                0                0                        NaN   \n",
       "4                0                0                        0.0   \n",
       "\n",
       "  AMT_REQ_CREDIT_BUREAU_DAY  AMT_REQ_CREDIT_BUREAU_WEEK  \\\n",
       "0                       0.0                         0.0   \n",
       "1                       0.0                         0.0   \n",
       "2                       0.0                         0.0   \n",
       "3                       NaN                         NaN   \n",
       "4                       0.0                         0.0   \n",
       "\n",
       "   AMT_REQ_CREDIT_BUREAU_MON  AMT_REQ_CREDIT_BUREAU_QRT  \\\n",
       "0                        0.0                        0.0   \n",
       "1                        0.0                        0.0   \n",
       "2                        0.0                        0.0   \n",
       "3                        NaN                        NaN   \n",
       "4                        0.0                        0.0   \n",
       "\n",
       "   AMT_REQ_CREDIT_BUREAU_YEAR  \n",
       "0                         1.0  \n",
       "1                         0.0  \n",
       "2                         0.0  \n",
       "3                         NaN  \n",
       "4                         0.0  \n",
       "\n",
       "[5 rows x 122 columns]"
      ]
     },
     "execution_count": 76,
     "metadata": {},
     "output_type": "execute_result"
    }
   ],
   "source": [
    "master_df.head()"
   ]
  },
  {
   "cell_type": "code",
   "execution_count": 77,
   "metadata": {},
   "outputs": [
    {
     "data": {
      "text/html": [
       "<div>\n",
       "<style scoped>\n",
       "    .dataframe tbody tr th:only-of-type {\n",
       "        vertical-align: middle;\n",
       "    }\n",
       "\n",
       "    .dataframe tbody tr th {\n",
       "        vertical-align: top;\n",
       "    }\n",
       "\n",
       "    .dataframe thead th {\n",
       "        text-align: right;\n",
       "    }\n",
       "</style>\n",
       "<table border=\"1\" class=\"dataframe\">\n",
       "  <thead>\n",
       "    <tr style=\"text-align: right;\">\n",
       "      <th></th>\n",
       "      <th>SK_ID_CURR</th>\n",
       "      <th>TARGET</th>\n",
       "      <th>CNT_CHILDREN</th>\n",
       "      <th>AMT_INCOME_TOTAL</th>\n",
       "      <th>AMT_CREDIT</th>\n",
       "      <th>AMT_ANNUITY</th>\n",
       "      <th>AMT_GOODS_PRICE</th>\n",
       "      <th>REGION_POPULATION_RELATIVE</th>\n",
       "      <th>DAYS_BIRTH</th>\n",
       "      <th>DAYS_EMPLOYED</th>\n",
       "      <th>...</th>\n",
       "      <th>FLAG_DOCUMENT_18</th>\n",
       "      <th>FLAG_DOCUMENT_19</th>\n",
       "      <th>FLAG_DOCUMENT_20</th>\n",
       "      <th>FLAG_DOCUMENT_21</th>\n",
       "      <th>AMT_REQ_CREDIT_BUREAU_HOUR</th>\n",
       "      <th>AMT_REQ_CREDIT_BUREAU_DAY</th>\n",
       "      <th>AMT_REQ_CREDIT_BUREAU_WEEK</th>\n",
       "      <th>AMT_REQ_CREDIT_BUREAU_MON</th>\n",
       "      <th>AMT_REQ_CREDIT_BUREAU_QRT</th>\n",
       "      <th>AMT_REQ_CREDIT_BUREAU_YEAR</th>\n",
       "    </tr>\n",
       "  </thead>\n",
       "  <tbody>\n",
       "    <tr>\n",
       "      <th>count</th>\n",
       "      <td>307511.000000</td>\n",
       "      <td>307511.000000</td>\n",
       "      <td>307511.000000</td>\n",
       "      <td>3.075110e+05</td>\n",
       "      <td>3.075110e+05</td>\n",
       "      <td>307499.000000</td>\n",
       "      <td>3.072330e+05</td>\n",
       "      <td>307511.000000</td>\n",
       "      <td>307511.000000</td>\n",
       "      <td>307511.000000</td>\n",
       "      <td>...</td>\n",
       "      <td>307511.000000</td>\n",
       "      <td>307511.000000</td>\n",
       "      <td>307511.000000</td>\n",
       "      <td>307511.000000</td>\n",
       "      <td>265992.000000</td>\n",
       "      <td>265992.000000</td>\n",
       "      <td>265992.000000</td>\n",
       "      <td>265992.000000</td>\n",
       "      <td>265992.000000</td>\n",
       "      <td>265992.000000</td>\n",
       "    </tr>\n",
       "    <tr>\n",
       "      <th>mean</th>\n",
       "      <td>278180.518577</td>\n",
       "      <td>0.080729</td>\n",
       "      <td>0.417052</td>\n",
       "      <td>1.687979e+05</td>\n",
       "      <td>5.990260e+05</td>\n",
       "      <td>27108.573909</td>\n",
       "      <td>5.383962e+05</td>\n",
       "      <td>0.020868</td>\n",
       "      <td>-16036.995067</td>\n",
       "      <td>63815.045904</td>\n",
       "      <td>...</td>\n",
       "      <td>0.008130</td>\n",
       "      <td>0.000595</td>\n",
       "      <td>0.000507</td>\n",
       "      <td>0.000335</td>\n",
       "      <td>0.006402</td>\n",
       "      <td>0.007000</td>\n",
       "      <td>0.034362</td>\n",
       "      <td>0.267395</td>\n",
       "      <td>0.265474</td>\n",
       "      <td>1.899974</td>\n",
       "    </tr>\n",
       "    <tr>\n",
       "      <th>std</th>\n",
       "      <td>102790.175348</td>\n",
       "      <td>0.272419</td>\n",
       "      <td>0.722121</td>\n",
       "      <td>2.371231e+05</td>\n",
       "      <td>4.024908e+05</td>\n",
       "      <td>14493.737315</td>\n",
       "      <td>3.694465e+05</td>\n",
       "      <td>0.013831</td>\n",
       "      <td>4363.988632</td>\n",
       "      <td>141275.766519</td>\n",
       "      <td>...</td>\n",
       "      <td>0.089798</td>\n",
       "      <td>0.024387</td>\n",
       "      <td>0.022518</td>\n",
       "      <td>0.018299</td>\n",
       "      <td>0.083849</td>\n",
       "      <td>0.110757</td>\n",
       "      <td>0.204685</td>\n",
       "      <td>0.916002</td>\n",
       "      <td>0.794056</td>\n",
       "      <td>1.869295</td>\n",
       "    </tr>\n",
       "    <tr>\n",
       "      <th>min</th>\n",
       "      <td>100002.000000</td>\n",
       "      <td>0.000000</td>\n",
       "      <td>0.000000</td>\n",
       "      <td>2.565000e+04</td>\n",
       "      <td>4.500000e+04</td>\n",
       "      <td>1615.500000</td>\n",
       "      <td>4.050000e+04</td>\n",
       "      <td>0.000290</td>\n",
       "      <td>-25229.000000</td>\n",
       "      <td>-17912.000000</td>\n",
       "      <td>...</td>\n",
       "      <td>0.000000</td>\n",
       "      <td>0.000000</td>\n",
       "      <td>0.000000</td>\n",
       "      <td>0.000000</td>\n",
       "      <td>0.000000</td>\n",
       "      <td>0.000000</td>\n",
       "      <td>0.000000</td>\n",
       "      <td>0.000000</td>\n",
       "      <td>0.000000</td>\n",
       "      <td>0.000000</td>\n",
       "    </tr>\n",
       "    <tr>\n",
       "      <th>25%</th>\n",
       "      <td>189145.500000</td>\n",
       "      <td>0.000000</td>\n",
       "      <td>0.000000</td>\n",
       "      <td>1.125000e+05</td>\n",
       "      <td>2.700000e+05</td>\n",
       "      <td>16524.000000</td>\n",
       "      <td>2.385000e+05</td>\n",
       "      <td>0.010006</td>\n",
       "      <td>-19682.000000</td>\n",
       "      <td>-2760.000000</td>\n",
       "      <td>...</td>\n",
       "      <td>0.000000</td>\n",
       "      <td>0.000000</td>\n",
       "      <td>0.000000</td>\n",
       "      <td>0.000000</td>\n",
       "      <td>0.000000</td>\n",
       "      <td>0.000000</td>\n",
       "      <td>0.000000</td>\n",
       "      <td>0.000000</td>\n",
       "      <td>0.000000</td>\n",
       "      <td>0.000000</td>\n",
       "    </tr>\n",
       "    <tr>\n",
       "      <th>50%</th>\n",
       "      <td>278202.000000</td>\n",
       "      <td>0.000000</td>\n",
       "      <td>0.000000</td>\n",
       "      <td>1.471500e+05</td>\n",
       "      <td>5.135310e+05</td>\n",
       "      <td>24903.000000</td>\n",
       "      <td>4.500000e+05</td>\n",
       "      <td>0.018850</td>\n",
       "      <td>-15750.000000</td>\n",
       "      <td>-1213.000000</td>\n",
       "      <td>...</td>\n",
       "      <td>0.000000</td>\n",
       "      <td>0.000000</td>\n",
       "      <td>0.000000</td>\n",
       "      <td>0.000000</td>\n",
       "      <td>0.000000</td>\n",
       "      <td>0.000000</td>\n",
       "      <td>0.000000</td>\n",
       "      <td>0.000000</td>\n",
       "      <td>0.000000</td>\n",
       "      <td>1.000000</td>\n",
       "    </tr>\n",
       "    <tr>\n",
       "      <th>75%</th>\n",
       "      <td>367142.500000</td>\n",
       "      <td>0.000000</td>\n",
       "      <td>1.000000</td>\n",
       "      <td>2.025000e+05</td>\n",
       "      <td>8.086500e+05</td>\n",
       "      <td>34596.000000</td>\n",
       "      <td>6.795000e+05</td>\n",
       "      <td>0.028663</td>\n",
       "      <td>-12413.000000</td>\n",
       "      <td>-289.000000</td>\n",
       "      <td>...</td>\n",
       "      <td>0.000000</td>\n",
       "      <td>0.000000</td>\n",
       "      <td>0.000000</td>\n",
       "      <td>0.000000</td>\n",
       "      <td>0.000000</td>\n",
       "      <td>0.000000</td>\n",
       "      <td>0.000000</td>\n",
       "      <td>0.000000</td>\n",
       "      <td>0.000000</td>\n",
       "      <td>3.000000</td>\n",
       "    </tr>\n",
       "    <tr>\n",
       "      <th>max</th>\n",
       "      <td>456255.000000</td>\n",
       "      <td>1.000000</td>\n",
       "      <td>19.000000</td>\n",
       "      <td>1.170000e+08</td>\n",
       "      <td>4.050000e+06</td>\n",
       "      <td>258025.500000</td>\n",
       "      <td>4.050000e+06</td>\n",
       "      <td>0.072508</td>\n",
       "      <td>-7489.000000</td>\n",
       "      <td>365243.000000</td>\n",
       "      <td>...</td>\n",
       "      <td>1.000000</td>\n",
       "      <td>1.000000</td>\n",
       "      <td>1.000000</td>\n",
       "      <td>1.000000</td>\n",
       "      <td>4.000000</td>\n",
       "      <td>9.000000</td>\n",
       "      <td>8.000000</td>\n",
       "      <td>27.000000</td>\n",
       "      <td>261.000000</td>\n",
       "      <td>25.000000</td>\n",
       "    </tr>\n",
       "  </tbody>\n",
       "</table>\n",
       "<p>8 rows × 106 columns</p>\n",
       "</div>"
      ],
      "text/plain": [
       "          SK_ID_CURR         TARGET   CNT_CHILDREN  AMT_INCOME_TOTAL  \\\n",
       "count  307511.000000  307511.000000  307511.000000      3.075110e+05   \n",
       "mean   278180.518577       0.080729       0.417052      1.687979e+05   \n",
       "std    102790.175348       0.272419       0.722121      2.371231e+05   \n",
       "min    100002.000000       0.000000       0.000000      2.565000e+04   \n",
       "25%    189145.500000       0.000000       0.000000      1.125000e+05   \n",
       "50%    278202.000000       0.000000       0.000000      1.471500e+05   \n",
       "75%    367142.500000       0.000000       1.000000      2.025000e+05   \n",
       "max    456255.000000       1.000000      19.000000      1.170000e+08   \n",
       "\n",
       "         AMT_CREDIT    AMT_ANNUITY  AMT_GOODS_PRICE  \\\n",
       "count  3.075110e+05  307499.000000     3.072330e+05   \n",
       "mean   5.990260e+05   27108.573909     5.383962e+05   \n",
       "std    4.024908e+05   14493.737315     3.694465e+05   \n",
       "min    4.500000e+04    1615.500000     4.050000e+04   \n",
       "25%    2.700000e+05   16524.000000     2.385000e+05   \n",
       "50%    5.135310e+05   24903.000000     4.500000e+05   \n",
       "75%    8.086500e+05   34596.000000     6.795000e+05   \n",
       "max    4.050000e+06  258025.500000     4.050000e+06   \n",
       "\n",
       "       REGION_POPULATION_RELATIVE     DAYS_BIRTH  DAYS_EMPLOYED  \\\n",
       "count               307511.000000  307511.000000  307511.000000   \n",
       "mean                     0.020868  -16036.995067   63815.045904   \n",
       "std                      0.013831    4363.988632  141275.766519   \n",
       "min                      0.000290  -25229.000000  -17912.000000   \n",
       "25%                      0.010006  -19682.000000   -2760.000000   \n",
       "50%                      0.018850  -15750.000000   -1213.000000   \n",
       "75%                      0.028663  -12413.000000    -289.000000   \n",
       "max                      0.072508   -7489.000000  365243.000000   \n",
       "\n",
       "                  ...              FLAG_DOCUMENT_18  FLAG_DOCUMENT_19  \\\n",
       "count             ...                 307511.000000     307511.000000   \n",
       "mean              ...                      0.008130          0.000595   \n",
       "std               ...                      0.089798          0.024387   \n",
       "min               ...                      0.000000          0.000000   \n",
       "25%               ...                      0.000000          0.000000   \n",
       "50%               ...                      0.000000          0.000000   \n",
       "75%               ...                      0.000000          0.000000   \n",
       "max               ...                      1.000000          1.000000   \n",
       "\n",
       "       FLAG_DOCUMENT_20  FLAG_DOCUMENT_21  AMT_REQ_CREDIT_BUREAU_HOUR  \\\n",
       "count     307511.000000     307511.000000               265992.000000   \n",
       "mean           0.000507          0.000335                    0.006402   \n",
       "std            0.022518          0.018299                    0.083849   \n",
       "min            0.000000          0.000000                    0.000000   \n",
       "25%            0.000000          0.000000                    0.000000   \n",
       "50%            0.000000          0.000000                    0.000000   \n",
       "75%            0.000000          0.000000                    0.000000   \n",
       "max            1.000000          1.000000                    4.000000   \n",
       "\n",
       "       AMT_REQ_CREDIT_BUREAU_DAY  AMT_REQ_CREDIT_BUREAU_WEEK  \\\n",
       "count              265992.000000               265992.000000   \n",
       "mean                    0.007000                    0.034362   \n",
       "std                     0.110757                    0.204685   \n",
       "min                     0.000000                    0.000000   \n",
       "25%                     0.000000                    0.000000   \n",
       "50%                     0.000000                    0.000000   \n",
       "75%                     0.000000                    0.000000   \n",
       "max                     9.000000                    8.000000   \n",
       "\n",
       "       AMT_REQ_CREDIT_BUREAU_MON  AMT_REQ_CREDIT_BUREAU_QRT  \\\n",
       "count              265992.000000              265992.000000   \n",
       "mean                    0.267395                   0.265474   \n",
       "std                     0.916002                   0.794056   \n",
       "min                     0.000000                   0.000000   \n",
       "25%                     0.000000                   0.000000   \n",
       "50%                     0.000000                   0.000000   \n",
       "75%                     0.000000                   0.000000   \n",
       "max                    27.000000                 261.000000   \n",
       "\n",
       "       AMT_REQ_CREDIT_BUREAU_YEAR  \n",
       "count               265992.000000  \n",
       "mean                     1.899974  \n",
       "std                      1.869295  \n",
       "min                      0.000000  \n",
       "25%                      0.000000  \n",
       "50%                      1.000000  \n",
       "75%                      3.000000  \n",
       "max                     25.000000  \n",
       "\n",
       "[8 rows x 106 columns]"
      ]
     },
     "execution_count": 77,
     "metadata": {},
     "output_type": "execute_result"
    }
   ],
   "source": [
    "master_df.describe()"
   ]
  },
  {
   "cell_type": "code",
   "execution_count": 78,
   "metadata": {},
   "outputs": [
    {
     "data": {
      "text/plain": [
       "float64    65\n",
       "int64      41\n",
       "object     16\n",
       "dtype: int64"
      ]
     },
     "execution_count": 78,
     "metadata": {},
     "output_type": "execute_result"
    }
   ],
   "source": [
    "master_df.dtypes.value_counts()"
   ]
  },
  {
   "cell_type": "code",
   "execution_count": 79,
   "metadata": {},
   "outputs": [
    {
     "data": {
      "image/png": "[encoded data removed]",
      "text/plain": [
       "<Figure size 432x288 with 1 Axes>"
      ]
     },
     "metadata": {},
     "output_type": "display_data"
    }
   ],
   "source": [
    "generate_pie_from_df(master_df, 'TARGET', 'OK vs Defaulted')"
   ]
  },
  {
   "cell_type": "code",
   "execution_count": 80,
   "metadata": {},
   "outputs": [
    {
     "data": {
      "image/png": "[encoded data removed]",
      "text/plain": [
       "<Figure size 432x288 with 1 Axes>"
      ]
     },
     "metadata": {},
     "output_type": "display_data"
    }
   ],
   "source": [
    "generate_pie_from_df(master_df, 'CODE_GENDER', 'Genders')"
   ]
  },
  {
   "cell_type": "markdown",
   "metadata": {},
   "source": [
    "change DAYS_BIRTH to positive"
   ]
  },
  {
   "cell_type": "code",
   "execution_count": 81,
   "metadata": {},
   "outputs": [],
   "source": [
    "master_df['DAYS_BIRTH'] = abs(master_df['DAYS_BIRTH'])"
   ]
  },
  {
   "cell_type": "markdown",
   "metadata": {},
   "source": [
    "Show distribution by age"
   ]
  },
  {
   "cell_type": "code",
   "execution_count": 675,
   "metadata": {},
   "outputs": [
    {
     "data": {
      "image/png": "[encoded data removed]",
      "text/plain": [
       "<Figure size 432x288 with 1 Axes>"
      ]
     },
     "metadata": {},
     "output_type": "display_data"
    }
   ],
   "source": [
    "#create a dataset with Days birth  in years\n",
    "temp = pd.DataFrame()\n",
    "temp['DAYS_BIRTH'] = master_df['DAYS_BIRTH'] /365\n",
    "temp['TARGET'] = master_df['TARGET']\n",
    "#plot\n",
    "show_distribution_hist(df = temp, col_name = 'DAYS_BIRTH', title='Distribution of ages', x_lable='Age in Years', y_label='count')"
   ]
  },
  {
   "cell_type": "markdown",
   "metadata": {},
   "source": [
    "Show the distribution of ages by default value"
   ]
  },
  {
   "cell_type": "code",
   "execution_count": 83,
   "metadata": {},
   "outputs": [
    {
     "data": {
      "image/png": "[encoded data removed]",
      "text/plain": [
       "<Figure size 432x288 with 1 Axes>"
      ]
     },
     "metadata": {},
     "output_type": "display_data"
    }
   ],
   "source": [
    "show_distribution_by_col_value(df=temp, src_col='TARGET', \n",
    "                               dest_col='DAYS_BIRTH', \n",
    "                               title='Distribution of ages', \n",
    "                               x_lable='Age in Years', \n",
    "                               y_label='count')"
   ]
  },
  {
   "cell_type": "markdown",
   "metadata": {},
   "source": [
    "Show the distribution of default by age"
   ]
  },
  {
   "cell_type": "markdown",
   "metadata": {},
   "source": [
    "here we can see that the median age for people that defaulted is lower than those who are not."
   ]
  },
  {
   "cell_type": "code",
   "execution_count": 85,
   "metadata": {},
   "outputs": [
    {
     "data": {
      "text/plain": [
       "Text(0.5,1,'Boxplot by AGE')"
      ]
     },
     "execution_count": 85,
     "metadata": {},
     "output_type": "execute_result"
    },
    {
     "data": {
      "image/png": "[encoded data removed]",
      "text/plain": [
       "<Figure size 432x288 with 1 Axes>"
      ]
     },
     "metadata": {},
     "output_type": "display_data"
    }
   ],
   "source": [
    "sns.boxplot(y=master_df['DAYS_BIRTH']/365,x=master_df['TARGET']).set_title(\"Boxplot by AGE\" )"
   ]
  },
  {
   "cell_type": "markdown",
   "metadata": {},
   "source": [
    "lets see the distribution of employment in years"
   ]
  },
  {
   "cell_type": "code",
   "execution_count": 86,
   "metadata": {},
   "outputs": [
    {
     "data": {
      "image/png": "[encoded data removed]",
      "text/plain": [
       "<Figure size 432x288 with 1 Axes>"
      ]
     },
     "metadata": {},
     "output_type": "display_data"
    }
   ],
   "source": [
    "(master_df['DAYS_EMPLOYED'] /365 ).plot.hist(title = 'Days Employment Histogram');\n",
    "plt.xlabel('Days Employment');"
   ]
  },
  {
   "cell_type": "markdown",
   "metadata": {},
   "source": [
    "Clearly there is an outlier because no one works for 1000 years.\n",
    "\n",
    "Lets see who works over 65 yers"
   ]
  },
  {
   "cell_type": "code",
   "execution_count": 87,
   "metadata": {},
   "outputs": [
    {
     "data": {
      "image/png": "[encoded data removed]",
      "text/plain": [
       "<Figure size 432x288 with 1 Axes>"
      ]
     },
     "metadata": {},
     "output_type": "display_data"
    }
   ],
   "source": [
    "(master_df['DAYS_EMPLOYED'] /365).where(master_df['DAYS_EMPLOYED'] > 65).plot.hist(title = 'Over 65 years employment');"
   ]
  },
  {
   "cell_type": "markdown",
   "metadata": {},
   "source": [
    "lets describe"
   ]
  },
  {
   "cell_type": "code",
   "execution_count": 676,
   "metadata": {},
   "outputs": [],
   "source": [
    "(master_df['DAYS_EMPLOYED'] /365).where(master_df['DAYS_EMPLOYED'] > 65).describe()\n",
    "#since max an min are the same number. without calculating the years abnd running a describe() function \n",
    "#we undestand that there is only one outlier which is 365243\n",
    "#lets create an outlier field and set the DAYS_EMPLOYED to null for the ouylier values\n",
    "# master_df['DAYS_EMPLOYED_OUTLIER'] = master_df[\"DAYS_EMPLOYED\"] == 365243\n",
    "master_df['DAYS_EMPLOYED'].replace({365243: np.nan}, inplace = True)\n"
   ]
  },
  {
   "cell_type": "markdown",
   "metadata": {},
   "source": [
    "lets check now"
   ]
  },
  {
   "cell_type": "code",
   "execution_count": 677,
   "metadata": {},
   "outputs": [
    {
     "data": {
      "image/png": "[encoded data removed]",
      "text/plain": [
       "<Figure size 432x288 with 1 Axes>"
      ]
     },
     "metadata": {},
     "output_type": "display_data"
    }
   ],
   "source": [
    "\n",
    "(master_df['DAYS_EMPLOYED'] /365 ).plot.hist(title = 'Days Employment Histogram');"
   ]
  },
  {
   "cell_type": "markdown",
   "metadata": {},
   "source": [
    "show the distribution of default by DAYS_EMPLOYED"
   ]
  },
  {
   "cell_type": "code",
   "execution_count": 678,
   "metadata": {},
   "outputs": [
    {
     "data": {
      "image/png": "[encoded data removed]",
      "text/plain": [
       "<Figure size 432x288 with 1 Axes>"
      ]
     },
     "metadata": {},
     "output_type": "display_data"
    }
   ],
   "source": [
    "\n",
    "temp['DAYS_EMPLOYED'] = master_df['DAYS_EMPLOYED'] / -365\n",
    "\n",
    "show_distribution_by_col_value(df=temp, src_col='TARGET', \n",
    "                               dest_col='DAYS_EMPLOYED', \n",
    "                               title='Distribution of Years Employed', \n",
    "                               x_lable='Years Employed', \n",
    "                               y_label='count')"
   ]
  },
  {
   "cell_type": "markdown",
   "metadata": {},
   "source": [
    "as we suspected - people that defaulted tend to work less"
   ]
  },
  {
   "cell_type": "markdown",
   "metadata": {},
   "source": [
    "## encoding data\n"
   ]
  },
  {
   "cell_type": "markdown",
   "metadata": {},
   "source": [
    "There are 16 clumns that are string based and therefore they must be categorical data\n",
    "for columns that have only two options we will use label incoding, if the columns have more then two options we will use one hot encoding\n",
    "\n",
    "configure one hot and label encoding using LabelEncoder nad get_dummies"
   ]
  },
  {
   "cell_type": "code",
   "execution_count": 679,
   "metadata": {},
   "outputs": [],
   "source": [
    "\n",
    "le = LabelEncoder()\n",
    "\n",
    "for column in master_df.select_dtypes('object'):\n",
    "    if len(list(master_df[column].unique())) == 2:\n",
    "        le.fit(master_df[column])\n",
    "        master_df[column] = le.transform(master_df[column])\n",
    "\n",
    "#set the rest with one hot\n",
    "master_df = pd.get_dummies(master_df, dummy_na=True)\n"
   ]
  },
  {
   "cell_type": "markdown",
   "metadata": {},
   "source": [
    "we can see that we dont have categorical data anymore"
   ]
  },
  {
   "cell_type": "code",
   "execution_count": 680,
   "metadata": {},
   "outputs": [
    {
     "data": {
      "text/plain": [
       "uint8      147\n",
       "float64     66\n",
       "int64       42\n",
       "dtype: int64"
      ]
     },
     "execution_count": 680,
     "metadata": {},
     "output_type": "execute_result"
    }
   ],
   "source": [
    "\n",
    "master_df.dtypes.value_counts()\n"
   ]
  },
  {
   "cell_type": "markdown",
   "metadata": {},
   "source": [
    "early on we saw that many columns has negative values, lets get a list of all columns\n"
   ]
  },
  {
   "cell_type": "code",
   "execution_count": 681,
   "metadata": {},
   "outputs": [
    {
     "name": "stdout",
     "output_type": "stream",
     "text": [
      "DAYS_BIRTH\n"
     ]
    }
   ],
   "source": [
    "for col in master_df.columns:\n",
    "    values = (master_df[col].dropna() < 0).value_counts()\n",
    "    if (len(values) == 1 and values.index[0]):\n",
    "        print(col)\n",
    "    "
   ]
  },
  {
   "cell_type": "markdown",
   "metadata": {},
   "source": [
    "lets change the the negative values "
   ]
  },
  {
   "cell_type": "code",
   "execution_count": 682,
   "metadata": {},
   "outputs": [],
   "source": [
    "master_df['DAYS_EMPLOYED'] = abs(master_df['DAYS_EMPLOYED'])"
   ]
  },
  {
   "cell_type": "markdown",
   "metadata": {},
   "source": [
    "## Missing Values\n"
   ]
  },
  {
   "cell_type": "code",
   "execution_count": 19,
   "metadata": {},
   "outputs": [
    {
     "data": {
      "image/png": "[encoded data removed]",
      "text/plain": [
       "<Figure size 1440x720 with 2 Axes>"
      ]
     },
     "metadata": {},
     "output_type": "display_data"
    }
   ],
   "source": [
    "msno.matrix(master_df, inline=True, sparkline=True, figsize=(20,10), sort=None)"
   ]
  },
  {
   "cell_type": "markdown",
   "metadata": {},
   "source": [
    "generate missing columns table"
   ]
  },
  {
   "cell_type": "code",
   "execution_count": 683,
   "metadata": {},
   "outputs": [
    {
     "name": "stdout",
     "output_type": "stream",
     "text": [
      "Your selected dataframe has 255 columns.\n",
      "There are 62 columns that have missing values.\n"
     ]
    }
   ],
   "source": [
    "missing_columns = missing_values_table(master_df)"
   ]
  },
  {
   "cell_type": "markdown",
   "metadata": {},
   "source": [
    "create a portion of that dataset that is not having any NA's for checking correlation"
   ]
  },
  {
   "cell_type": "code",
   "execution_count": 684,
   "metadata": {},
   "outputs": [],
   "source": [
    "full_df = master_df[master_df.columns.difference(missing_columns.index.tolist())]"
   ]
  },
  {
   "cell_type": "markdown",
   "metadata": {},
   "source": [
    "lets check the correlations of of missing columns to the actual data"
   ]
  },
  {
   "cell_type": "code",
   "execution_count": 689,
   "metadata": {},
   "outputs": [],
   "source": [
    "missing_report = explore_missing_values(missing_columns, master_df)"
   ]
  },
  {
   "cell_type": "code",
   "execution_count": 692,
   "metadata": {
    "scrolled": false
   },
   "outputs": [
    {
     "data": {
      "text/html": [
       "<div>\n",
       "<style scoped>\n",
       "    .dataframe tbody tr th:only-of-type {\n",
       "        vertical-align: middle;\n",
       "    }\n",
       "\n",
       "    .dataframe tbody tr th {\n",
       "        vertical-align: top;\n",
       "    }\n",
       "\n",
       "    .dataframe thead th {\n",
       "        text-align: right;\n",
       "    }\n",
       "</style>\n",
       "<table border=\"1\" class=\"dataframe\">\n",
       "  <thead>\n",
       "    <tr style=\"text-align: right;\">\n",
       "      <th></th>\n",
       "      <th>ColName</th>\n",
       "      <th>PvaluePercent</th>\n",
       "      <th>MssingRowCount</th>\n",
       "      <th>MissingRowDefaultedCount</th>\n",
       "      <th>PercentOfDefault</th>\n",
       "    </tr>\n",
       "  </thead>\n",
       "  <tbody>\n",
       "    <tr>\n",
       "      <th>0</th>\n",
       "      <td>COMMONAREA_MODE</td>\n",
       "      <td>30.0</td>\n",
       "      <td>214865</td>\n",
       "      <td>18423</td>\n",
       "      <td>9.0</td>\n",
       "    </tr>\n",
       "    <tr>\n",
       "      <th>1</th>\n",
       "      <td>COMMONAREA_AVG</td>\n",
       "      <td>30.0</td>\n",
       "      <td>214865</td>\n",
       "      <td>18423</td>\n",
       "      <td>9.0</td>\n",
       "    </tr>\n",
       "    <tr>\n",
       "      <th>2</th>\n",
       "      <td>COMMONAREA_MEDI</td>\n",
       "      <td>30.0</td>\n",
       "      <td>214865</td>\n",
       "      <td>18423</td>\n",
       "      <td>9.0</td>\n",
       "    </tr>\n",
       "    <tr>\n",
       "      <th>3</th>\n",
       "      <td>NONLIVINGAPARTMENTS_MEDI</td>\n",
       "      <td>20.0</td>\n",
       "      <td>213514</td>\n",
       "      <td>18327</td>\n",
       "      <td>9.0</td>\n",
       "    </tr>\n",
       "    <tr>\n",
       "      <th>4</th>\n",
       "      <td>NONLIVINGAPARTMENTS_AVG</td>\n",
       "      <td>20.0</td>\n",
       "      <td>213514</td>\n",
       "      <td>18327</td>\n",
       "      <td>9.0</td>\n",
       "    </tr>\n",
       "    <tr>\n",
       "      <th>5</th>\n",
       "      <td>NONLIVINGAPARTMENTS_MODE</td>\n",
       "      <td>20.0</td>\n",
       "      <td>213514</td>\n",
       "      <td>18327</td>\n",
       "      <td>9.0</td>\n",
       "    </tr>\n",
       "    <tr>\n",
       "      <th>6</th>\n",
       "      <td>LIVINGAPARTMENTS_MODE</td>\n",
       "      <td>31.0</td>\n",
       "      <td>210199</td>\n",
       "      <td>18122</td>\n",
       "      <td>9.0</td>\n",
       "    </tr>\n",
       "    <tr>\n",
       "      <th>7</th>\n",
       "      <td>LIVINGAPARTMENTS_MEDI</td>\n",
       "      <td>31.0</td>\n",
       "      <td>210199</td>\n",
       "      <td>18122</td>\n",
       "      <td>9.0</td>\n",
       "    </tr>\n",
       "    <tr>\n",
       "      <th>8</th>\n",
       "      <td>LIVINGAPARTMENTS_AVG</td>\n",
       "      <td>31.0</td>\n",
       "      <td>210199</td>\n",
       "      <td>18122</td>\n",
       "      <td>9.0</td>\n",
       "    </tr>\n",
       "    <tr>\n",
       "      <th>9</th>\n",
       "      <td>FLOORSMIN_MODE</td>\n",
       "      <td>32.0</td>\n",
       "      <td>208642</td>\n",
       "      <td>18008</td>\n",
       "      <td>9.0</td>\n",
       "    </tr>\n",
       "    <tr>\n",
       "      <th>10</th>\n",
       "      <td>FLOORSMIN_AVG</td>\n",
       "      <td>32.0</td>\n",
       "      <td>208642</td>\n",
       "      <td>18008</td>\n",
       "      <td>9.0</td>\n",
       "    </tr>\n",
       "    <tr>\n",
       "      <th>11</th>\n",
       "      <td>FLOORSMIN_MEDI</td>\n",
       "      <td>32.0</td>\n",
       "      <td>208642</td>\n",
       "      <td>18008</td>\n",
       "      <td>9.0</td>\n",
       "    </tr>\n",
       "    <tr>\n",
       "      <th>12</th>\n",
       "      <td>YEARS_BUILD_AVG</td>\n",
       "      <td>33.0</td>\n",
       "      <td>204488</td>\n",
       "      <td>17751</td>\n",
       "      <td>9.0</td>\n",
       "    </tr>\n",
       "    <tr>\n",
       "      <th>13</th>\n",
       "      <td>YEARS_BUILD_MODE</td>\n",
       "      <td>33.0</td>\n",
       "      <td>204488</td>\n",
       "      <td>17751</td>\n",
       "      <td>9.0</td>\n",
       "    </tr>\n",
       "    <tr>\n",
       "      <th>14</th>\n",
       "      <td>YEARS_BUILD_MEDI</td>\n",
       "      <td>33.0</td>\n",
       "      <td>204488</td>\n",
       "      <td>17751</td>\n",
       "      <td>9.0</td>\n",
       "    </tr>\n",
       "    <tr>\n",
       "      <th>15</th>\n",
       "      <td>OWN_CAR_AGE</td>\n",
       "      <td>77.0</td>\n",
       "      <td>202929</td>\n",
       "      <td>17249</td>\n",
       "      <td>9.0</td>\n",
       "    </tr>\n",
       "    <tr>\n",
       "      <th>16</th>\n",
       "      <td>LANDAREA_MEDI</td>\n",
       "      <td>21.0</td>\n",
       "      <td>182590</td>\n",
       "      <td>16104</td>\n",
       "      <td>9.0</td>\n",
       "    </tr>\n",
       "    <tr>\n",
       "      <th>17</th>\n",
       "      <td>LANDAREA_MODE</td>\n",
       "      <td>21.0</td>\n",
       "      <td>182590</td>\n",
       "      <td>16104</td>\n",
       "      <td>9.0</td>\n",
       "    </tr>\n",
       "    <tr>\n",
       "      <th>18</th>\n",
       "      <td>LANDAREA_AVG</td>\n",
       "      <td>21.0</td>\n",
       "      <td>182590</td>\n",
       "      <td>16104</td>\n",
       "      <td>9.0</td>\n",
       "    </tr>\n",
       "    <tr>\n",
       "      <th>19</th>\n",
       "      <td>BASEMENTAREA_AVG</td>\n",
       "      <td>16.0</td>\n",
       "      <td>179943</td>\n",
       "      <td>16038</td>\n",
       "      <td>9.0</td>\n",
       "    </tr>\n",
       "    <tr>\n",
       "      <th>20</th>\n",
       "      <td>BASEMENTAREA_MEDI</td>\n",
       "      <td>16.0</td>\n",
       "      <td>179943</td>\n",
       "      <td>16038</td>\n",
       "      <td>9.0</td>\n",
       "    </tr>\n",
       "    <tr>\n",
       "      <th>21</th>\n",
       "      <td>BASEMENTAREA_MODE</td>\n",
       "      <td>16.0</td>\n",
       "      <td>179943</td>\n",
       "      <td>16038</td>\n",
       "      <td>9.0</td>\n",
       "    </tr>\n",
       "    <tr>\n",
       "      <th>22</th>\n",
       "      <td>EXT_SOURCE_1</td>\n",
       "      <td>31.0</td>\n",
       "      <td>173378</td>\n",
       "      <td>14771</td>\n",
       "      <td>9.0</td>\n",
       "    </tr>\n",
       "    <tr>\n",
       "      <th>23</th>\n",
       "      <td>NONLIVINGAREA_MEDI</td>\n",
       "      <td>47.0</td>\n",
       "      <td>169682</td>\n",
       "      <td>15330</td>\n",
       "      <td>9.0</td>\n",
       "    </tr>\n",
       "    <tr>\n",
       "      <th>24</th>\n",
       "      <td>NONLIVINGAREA_MODE</td>\n",
       "      <td>47.0</td>\n",
       "      <td>169682</td>\n",
       "      <td>15330</td>\n",
       "      <td>9.0</td>\n",
       "    </tr>\n",
       "    <tr>\n",
       "      <th>25</th>\n",
       "      <td>NONLIVINGAREA_AVG</td>\n",
       "      <td>47.0</td>\n",
       "      <td>169682</td>\n",
       "      <td>15330</td>\n",
       "      <td>9.0</td>\n",
       "    </tr>\n",
       "    <tr>\n",
       "      <th>26</th>\n",
       "      <td>ELEVATORS_MEDI</td>\n",
       "      <td>14.0</td>\n",
       "      <td>163891</td>\n",
       "      <td>14915</td>\n",
       "      <td>9.0</td>\n",
       "    </tr>\n",
       "    <tr>\n",
       "      <th>27</th>\n",
       "      <td>ELEVATORS_MODE</td>\n",
       "      <td>14.0</td>\n",
       "      <td>163891</td>\n",
       "      <td>14915</td>\n",
       "      <td>9.0</td>\n",
       "    </tr>\n",
       "    <tr>\n",
       "      <th>28</th>\n",
       "      <td>ELEVATORS_AVG</td>\n",
       "      <td>14.0</td>\n",
       "      <td>163891</td>\n",
       "      <td>14915</td>\n",
       "      <td>9.0</td>\n",
       "    </tr>\n",
       "    <tr>\n",
       "      <th>29</th>\n",
       "      <td>APARTMENTS_MEDI</td>\n",
       "      <td>18.0</td>\n",
       "      <td>156061</td>\n",
       "      <td>14285</td>\n",
       "      <td>9.0</td>\n",
       "    </tr>\n",
       "    <tr>\n",
       "      <th>...</th>\n",
       "      <td>...</td>\n",
       "      <td>...</td>\n",
       "      <td>...</td>\n",
       "      <td>...</td>\n",
       "      <td>...</td>\n",
       "    </tr>\n",
       "    <tr>\n",
       "      <th>32</th>\n",
       "      <td>ENTRANCES_AVG</td>\n",
       "      <td>22.0</td>\n",
       "      <td>154828</td>\n",
       "      <td>14211</td>\n",
       "      <td>9.0</td>\n",
       "    </tr>\n",
       "    <tr>\n",
       "      <th>33</th>\n",
       "      <td>ENTRANCES_MODE</td>\n",
       "      <td>22.0</td>\n",
       "      <td>154828</td>\n",
       "      <td>14211</td>\n",
       "      <td>9.0</td>\n",
       "    </tr>\n",
       "    <tr>\n",
       "      <th>34</th>\n",
       "      <td>ENTRANCES_MEDI</td>\n",
       "      <td>22.0</td>\n",
       "      <td>154828</td>\n",
       "      <td>14211</td>\n",
       "      <td>9.0</td>\n",
       "    </tr>\n",
       "    <tr>\n",
       "      <th>35</th>\n",
       "      <td>LIVINGAREA_MEDI</td>\n",
       "      <td>15.0</td>\n",
       "      <td>154350</td>\n",
       "      <td>14111</td>\n",
       "      <td>9.0</td>\n",
       "    </tr>\n",
       "    <tr>\n",
       "      <th>36</th>\n",
       "      <td>LIVINGAREA_MODE</td>\n",
       "      <td>15.0</td>\n",
       "      <td>154350</td>\n",
       "      <td>14111</td>\n",
       "      <td>9.0</td>\n",
       "    </tr>\n",
       "    <tr>\n",
       "      <th>37</th>\n",
       "      <td>LIVINGAREA_AVG</td>\n",
       "      <td>15.0</td>\n",
       "      <td>154350</td>\n",
       "      <td>14111</td>\n",
       "      <td>9.0</td>\n",
       "    </tr>\n",
       "    <tr>\n",
       "      <th>38</th>\n",
       "      <td>FLOORSMAX_MODE</td>\n",
       "      <td>32.0</td>\n",
       "      <td>153020</td>\n",
       "      <td>14064</td>\n",
       "      <td>9.0</td>\n",
       "    </tr>\n",
       "    <tr>\n",
       "      <th>39</th>\n",
       "      <td>FLOORSMAX_AVG</td>\n",
       "      <td>32.0</td>\n",
       "      <td>153020</td>\n",
       "      <td>14064</td>\n",
       "      <td>9.0</td>\n",
       "    </tr>\n",
       "    <tr>\n",
       "      <th>40</th>\n",
       "      <td>FLOORSMAX_MEDI</td>\n",
       "      <td>32.0</td>\n",
       "      <td>153020</td>\n",
       "      <td>14064</td>\n",
       "      <td>9.0</td>\n",
       "    </tr>\n",
       "    <tr>\n",
       "      <th>41</th>\n",
       "      <td>YEARS_BEGINEXPLUATATION_MEDI</td>\n",
       "      <td>30.0</td>\n",
       "      <td>150007</td>\n",
       "      <td>13808</td>\n",
       "      <td>9.0</td>\n",
       "    </tr>\n",
       "    <tr>\n",
       "      <th>42</th>\n",
       "      <td>YEARS_BEGINEXPLUATATION_MODE</td>\n",
       "      <td>30.0</td>\n",
       "      <td>150007</td>\n",
       "      <td>13808</td>\n",
       "      <td>9.0</td>\n",
       "    </tr>\n",
       "    <tr>\n",
       "      <th>43</th>\n",
       "      <td>YEARS_BEGINEXPLUATATION_AVG</td>\n",
       "      <td>30.0</td>\n",
       "      <td>150007</td>\n",
       "      <td>13808</td>\n",
       "      <td>9.0</td>\n",
       "    </tr>\n",
       "    <tr>\n",
       "      <th>44</th>\n",
       "      <td>TOTALAREA_MODE</td>\n",
       "      <td>36.0</td>\n",
       "      <td>148431</td>\n",
       "      <td>13706</td>\n",
       "      <td>9.0</td>\n",
       "    </tr>\n",
       "    <tr>\n",
       "      <th>45</th>\n",
       "      <td>EXT_SOURCE_3</td>\n",
       "      <td>61.0</td>\n",
       "      <td>60965</td>\n",
       "      <td>5677</td>\n",
       "      <td>9.0</td>\n",
       "    </tr>\n",
       "    <tr>\n",
       "      <th>46</th>\n",
       "      <td>DAYS_EMPLOYED</td>\n",
       "      <td>96.0</td>\n",
       "      <td>55374</td>\n",
       "      <td>2990</td>\n",
       "      <td>5.0</td>\n",
       "    </tr>\n",
       "    <tr>\n",
       "      <th>47</th>\n",
       "      <td>AMT_REQ_CREDIT_BUREAU_HOUR</td>\n",
       "      <td>63.0</td>\n",
       "      <td>41519</td>\n",
       "      <td>4292</td>\n",
       "      <td>10.0</td>\n",
       "    </tr>\n",
       "    <tr>\n",
       "      <th>48</th>\n",
       "      <td>AMT_REQ_CREDIT_BUREAU_MON</td>\n",
       "      <td>63.0</td>\n",
       "      <td>41519</td>\n",
       "      <td>4292</td>\n",
       "      <td>10.0</td>\n",
       "    </tr>\n",
       "    <tr>\n",
       "      <th>49</th>\n",
       "      <td>AMT_REQ_CREDIT_BUREAU_QRT</td>\n",
       "      <td>63.0</td>\n",
       "      <td>41519</td>\n",
       "      <td>4292</td>\n",
       "      <td>10.0</td>\n",
       "    </tr>\n",
       "    <tr>\n",
       "      <th>50</th>\n",
       "      <td>AMT_REQ_CREDIT_BUREAU_WEEK</td>\n",
       "      <td>63.0</td>\n",
       "      <td>41519</td>\n",
       "      <td>4292</td>\n",
       "      <td>10.0</td>\n",
       "    </tr>\n",
       "    <tr>\n",
       "      <th>51</th>\n",
       "      <td>AMT_REQ_CREDIT_BUREAU_DAY</td>\n",
       "      <td>63.0</td>\n",
       "      <td>41519</td>\n",
       "      <td>4292</td>\n",
       "      <td>10.0</td>\n",
       "    </tr>\n",
       "    <tr>\n",
       "      <th>52</th>\n",
       "      <td>AMT_REQ_CREDIT_BUREAU_YEAR</td>\n",
       "      <td>63.0</td>\n",
       "      <td>41519</td>\n",
       "      <td>4292</td>\n",
       "      <td>10.0</td>\n",
       "    </tr>\n",
       "    <tr>\n",
       "      <th>53</th>\n",
       "      <td>OBS_60_CNT_SOCIAL_CIRCLE</td>\n",
       "      <td>17.0</td>\n",
       "      <td>1021</td>\n",
       "      <td>36</td>\n",
       "      <td>4.0</td>\n",
       "    </tr>\n",
       "    <tr>\n",
       "      <th>54</th>\n",
       "      <td>DEF_60_CNT_SOCIAL_CIRCLE</td>\n",
       "      <td>17.0</td>\n",
       "      <td>1021</td>\n",
       "      <td>36</td>\n",
       "      <td>4.0</td>\n",
       "    </tr>\n",
       "    <tr>\n",
       "      <th>55</th>\n",
       "      <td>DEF_30_CNT_SOCIAL_CIRCLE</td>\n",
       "      <td>17.0</td>\n",
       "      <td>1021</td>\n",
       "      <td>36</td>\n",
       "      <td>4.0</td>\n",
       "    </tr>\n",
       "    <tr>\n",
       "      <th>56</th>\n",
       "      <td>OBS_30_CNT_SOCIAL_CIRCLE</td>\n",
       "      <td>17.0</td>\n",
       "      <td>1021</td>\n",
       "      <td>36</td>\n",
       "      <td>4.0</td>\n",
       "    </tr>\n",
       "    <tr>\n",
       "      <th>57</th>\n",
       "      <td>EXT_SOURCE_2</td>\n",
       "      <td>73.0</td>\n",
       "      <td>660</td>\n",
       "      <td>52</td>\n",
       "      <td>8.0</td>\n",
       "    </tr>\n",
       "    <tr>\n",
       "      <th>58</th>\n",
       "      <td>AMT_GOODS_PRICE</td>\n",
       "      <td>54.0</td>\n",
       "      <td>278</td>\n",
       "      <td>21</td>\n",
       "      <td>8.0</td>\n",
       "    </tr>\n",
       "    <tr>\n",
       "      <th>59</th>\n",
       "      <td>AMT_ANNUITY</td>\n",
       "      <td>5.0</td>\n",
       "      <td>12</td>\n",
       "      <td>0</td>\n",
       "      <td>0.0</td>\n",
       "    </tr>\n",
       "    <tr>\n",
       "      <th>60</th>\n",
       "      <td>CNT_FAM_MEMBERS</td>\n",
       "      <td>80.0</td>\n",
       "      <td>2</td>\n",
       "      <td>0</td>\n",
       "      <td>0.0</td>\n",
       "    </tr>\n",
       "    <tr>\n",
       "      <th>61</th>\n",
       "      <td>DAYS_LAST_PHONE_CHANGE</td>\n",
       "      <td>80.0</td>\n",
       "      <td>1</td>\n",
       "      <td>0</td>\n",
       "      <td>0.0</td>\n",
       "    </tr>\n",
       "  </tbody>\n",
       "</table>\n",
       "<p>62 rows × 5 columns</p>\n",
       "</div>"
      ],
      "text/plain": [
       "                         ColName  PvaluePercent MssingRowCount  \\\n",
       "0                COMMONAREA_MODE           30.0         214865   \n",
       "1                 COMMONAREA_AVG           30.0         214865   \n",
       "2                COMMONAREA_MEDI           30.0         214865   \n",
       "3       NONLIVINGAPARTMENTS_MEDI           20.0         213514   \n",
       "4        NONLIVINGAPARTMENTS_AVG           20.0         213514   \n",
       "5       NONLIVINGAPARTMENTS_MODE           20.0         213514   \n",
       "6          LIVINGAPARTMENTS_MODE           31.0         210199   \n",
       "7          LIVINGAPARTMENTS_MEDI           31.0         210199   \n",
       "8           LIVINGAPARTMENTS_AVG           31.0         210199   \n",
       "9                 FLOORSMIN_MODE           32.0         208642   \n",
       "10                 FLOORSMIN_AVG           32.0         208642   \n",
       "11                FLOORSMIN_MEDI           32.0         208642   \n",
       "12               YEARS_BUILD_AVG           33.0         204488   \n",
       "13              YEARS_BUILD_MODE           33.0         204488   \n",
       "14              YEARS_BUILD_MEDI           33.0         204488   \n",
       "15                   OWN_CAR_AGE           77.0         202929   \n",
       "16                 LANDAREA_MEDI           21.0         182590   \n",
       "17                 LANDAREA_MODE           21.0         182590   \n",
       "18                  LANDAREA_AVG           21.0         182590   \n",
       "19              BASEMENTAREA_AVG           16.0         179943   \n",
       "20             BASEMENTAREA_MEDI           16.0         179943   \n",
       "21             BASEMENTAREA_MODE           16.0         179943   \n",
       "22                  EXT_SOURCE_1           31.0         173378   \n",
       "23            NONLIVINGAREA_MEDI           47.0         169682   \n",
       "24            NONLIVINGAREA_MODE           47.0         169682   \n",
       "25             NONLIVINGAREA_AVG           47.0         169682   \n",
       "26                ELEVATORS_MEDI           14.0         163891   \n",
       "27                ELEVATORS_MODE           14.0         163891   \n",
       "28                 ELEVATORS_AVG           14.0         163891   \n",
       "29               APARTMENTS_MEDI           18.0         156061   \n",
       "..                           ...            ...            ...   \n",
       "32                 ENTRANCES_AVG           22.0         154828   \n",
       "33                ENTRANCES_MODE           22.0         154828   \n",
       "34                ENTRANCES_MEDI           22.0         154828   \n",
       "35               LIVINGAREA_MEDI           15.0         154350   \n",
       "36               LIVINGAREA_MODE           15.0         154350   \n",
       "37                LIVINGAREA_AVG           15.0         154350   \n",
       "38                FLOORSMAX_MODE           32.0         153020   \n",
       "39                 FLOORSMAX_AVG           32.0         153020   \n",
       "40                FLOORSMAX_MEDI           32.0         153020   \n",
       "41  YEARS_BEGINEXPLUATATION_MEDI           30.0         150007   \n",
       "42  YEARS_BEGINEXPLUATATION_MODE           30.0         150007   \n",
       "43   YEARS_BEGINEXPLUATATION_AVG           30.0         150007   \n",
       "44                TOTALAREA_MODE           36.0         148431   \n",
       "45                  EXT_SOURCE_3           61.0          60965   \n",
       "46                 DAYS_EMPLOYED           96.0          55374   \n",
       "47    AMT_REQ_CREDIT_BUREAU_HOUR           63.0          41519   \n",
       "48     AMT_REQ_CREDIT_BUREAU_MON           63.0          41519   \n",
       "49     AMT_REQ_CREDIT_BUREAU_QRT           63.0          41519   \n",
       "50    AMT_REQ_CREDIT_BUREAU_WEEK           63.0          41519   \n",
       "51     AMT_REQ_CREDIT_BUREAU_DAY           63.0          41519   \n",
       "52    AMT_REQ_CREDIT_BUREAU_YEAR           63.0          41519   \n",
       "53      OBS_60_CNT_SOCIAL_CIRCLE           17.0           1021   \n",
       "54      DEF_60_CNT_SOCIAL_CIRCLE           17.0           1021   \n",
       "55      DEF_30_CNT_SOCIAL_CIRCLE           17.0           1021   \n",
       "56      OBS_30_CNT_SOCIAL_CIRCLE           17.0           1021   \n",
       "57                  EXT_SOURCE_2           73.0            660   \n",
       "58               AMT_GOODS_PRICE           54.0            278   \n",
       "59                   AMT_ANNUITY            5.0             12   \n",
       "60               CNT_FAM_MEMBERS           80.0              2   \n",
       "61        DAYS_LAST_PHONE_CHANGE           80.0              1   \n",
       "\n",
       "   MissingRowDefaultedCount  PercentOfDefault  \n",
       "0                     18423               9.0  \n",
       "1                     18423               9.0  \n",
       "2                     18423               9.0  \n",
       "3                     18327               9.0  \n",
       "4                     18327               9.0  \n",
       "5                     18327               9.0  \n",
       "6                     18122               9.0  \n",
       "7                     18122               9.0  \n",
       "8                     18122               9.0  \n",
       "9                     18008               9.0  \n",
       "10                    18008               9.0  \n",
       "11                    18008               9.0  \n",
       "12                    17751               9.0  \n",
       "13                    17751               9.0  \n",
       "14                    17751               9.0  \n",
       "15                    17249               9.0  \n",
       "16                    16104               9.0  \n",
       "17                    16104               9.0  \n",
       "18                    16104               9.0  \n",
       "19                    16038               9.0  \n",
       "20                    16038               9.0  \n",
       "21                    16038               9.0  \n",
       "22                    14771               9.0  \n",
       "23                    15330               9.0  \n",
       "24                    15330               9.0  \n",
       "25                    15330               9.0  \n",
       "26                    14915               9.0  \n",
       "27                    14915               9.0  \n",
       "28                    14915               9.0  \n",
       "29                    14285               9.0  \n",
       "..                      ...               ...  \n",
       "32                    14211               9.0  \n",
       "33                    14211               9.0  \n",
       "34                    14211               9.0  \n",
       "35                    14111               9.0  \n",
       "36                    14111               9.0  \n",
       "37                    14111               9.0  \n",
       "38                    14064               9.0  \n",
       "39                    14064               9.0  \n",
       "40                    14064               9.0  \n",
       "41                    13808               9.0  \n",
       "42                    13808               9.0  \n",
       "43                    13808               9.0  \n",
       "44                    13706               9.0  \n",
       "45                     5677               9.0  \n",
       "46                     2990               5.0  \n",
       "47                     4292              10.0  \n",
       "48                     4292              10.0  \n",
       "49                     4292              10.0  \n",
       "50                     4292              10.0  \n",
       "51                     4292              10.0  \n",
       "52                     4292              10.0  \n",
       "53                       36               4.0  \n",
       "54                       36               4.0  \n",
       "55                       36               4.0  \n",
       "56                       36               4.0  \n",
       "57                       52               8.0  \n",
       "58                       21               8.0  \n",
       "59                        0               0.0  \n",
       "60                        0               0.0  \n",
       "61                        0               0.0  \n",
       "\n",
       "[62 rows x 5 columns]"
      ]
     },
     "execution_count": 692,
     "metadata": {},
     "output_type": "execute_result"
    }
   ],
   "source": [
    "missing_report"
   ]
  },
  {
   "cell_type": "markdown",
   "metadata": {
    "collapsed": true
   },
   "source": [
    "All of the columns above show strong realtion to the data. after debating about we decided to cutoff all the rows below 1021\n",
    "and do a quartile encoding on the rest"
   ]
  },
  {
   "cell_type": "markdown",
   "metadata": {},
   "source": [
    "Quartile encoding to columns that have above 1021 rows"
   ]
  },
  {
   "cell_type": "code",
   "execution_count": 60,
   "metadata": {},
   "outputs": [],
   "source": [
    "# for col in missing_columns.index:\n",
    "#     if col in missing_columns[(missing_columns['Missing Values'] > 1021)].index.tolist():\n",
    "#         encode_quartile(master_df, col)\n"
   ]
  },
  {
   "cell_type": "markdown",
   "metadata": {},
   "source": [
    "using one_hot_by_classify "
   ]
  },
  {
   "cell_type": "code",
   "execution_count": 695,
   "metadata": {},
   "outputs": [
    {
     "name": "stdout",
     "output_type": "stream",
     "text": [
      "COMMONAREA_MODE optimal depth: 2\n",
      "COMMONAREA_AVG optimal depth: 2\n",
      "COMMONAREA_MEDI optimal depth: 2\n",
      "NONLIVINGAPARTMENTS_MEDI optimal depth: 1\n",
      "NONLIVINGAPARTMENTS_AVG optimal depth: 1\n",
      "NONLIVINGAPARTMENTS_MODE optimal depth: 1\n",
      "LIVINGAPARTMENTS_MODE optimal depth: 2\n",
      "LIVINGAPARTMENTS_MEDI optimal depth: 2\n",
      "LIVINGAPARTMENTS_AVG optimal depth: 2\n",
      "FLOORSMIN_MODE optimal depth: 2\n",
      "FLOORSMIN_AVG optimal depth: 2\n",
      "FLOORSMIN_MEDI optimal depth: 2\n",
      "YEARS_BUILD_AVG optimal depth: 2\n",
      "YEARS_BUILD_MODE optimal depth: 2\n",
      "YEARS_BUILD_MEDI optimal depth: 2\n",
      "OWN_CAR_AGE optimal depth: 2\n",
      "LANDAREA_MEDI optimal depth: 2\n",
      "LANDAREA_MODE optimal depth: 2\n",
      "LANDAREA_AVG optimal depth: 2\n",
      "BASEMENTAREA_AVG optimal depth: 2\n",
      "BASEMENTAREA_MEDI optimal depth: 2\n",
      "BASEMENTAREA_MODE optimal depth: 2\n",
      "EXT_SOURCE_1 optimal depth: 2\n",
      "NONLIVINGAREA_MEDI optimal depth: 2\n",
      "NONLIVINGAREA_MODE optimal depth: 2\n",
      "NONLIVINGAREA_AVG optimal depth: 2\n",
      "ELEVATORS_MEDI optimal depth: 2\n",
      "ELEVATORS_MODE optimal depth: 2\n",
      "ELEVATORS_AVG optimal depth: 2\n",
      "APARTMENTS_MEDI optimal depth: 2\n",
      "APARTMENTS_MODE optimal depth: 2\n",
      "APARTMENTS_AVG optimal depth: 2\n",
      "ENTRANCES_AVG optimal depth: 2\n",
      "ENTRANCES_MODE optimal depth: 2\n",
      "ENTRANCES_MEDI optimal depth: 2\n",
      "LIVINGAREA_MEDI optimal depth: 2\n",
      "LIVINGAREA_MODE optimal depth: 2\n",
      "LIVINGAREA_AVG optimal depth: 2\n",
      "FLOORSMAX_MODE optimal depth: 2\n",
      "FLOORSMAX_AVG optimal depth: 2\n",
      "FLOORSMAX_MEDI optimal depth: 2\n",
      "YEARS_BEGINEXPLUATATION_MEDI optimal depth: 2\n",
      "YEARS_BEGINEXPLUATATION_MODE optimal depth: 2\n",
      "YEARS_BEGINEXPLUATATION_AVG optimal depth: 2\n",
      "TOTALAREA_MODE optimal depth: 2\n",
      "EXT_SOURCE_3 optimal depth: 2\n",
      "DAYS_EMPLOYED optimal depth: 2\n",
      "AMT_REQ_CREDIT_BUREAU_HOUR optimal depth: 1\n",
      "AMT_REQ_CREDIT_BUREAU_MON optimal depth: 2\n",
      "AMT_REQ_CREDIT_BUREAU_QRT optimal depth: 2\n",
      "AMT_REQ_CREDIT_BUREAU_WEEK optimal depth: 1\n",
      "AMT_REQ_CREDIT_BUREAU_DAY optimal depth: 1\n",
      "AMT_REQ_CREDIT_BUREAU_YEAR optimal depth: 2\n"
     ]
    }
   ],
   "source": [
    "for col in missing_columns.index:\n",
    "    if col in missing_columns[(missing_columns['Missing Values'] > 1021)].index.tolist():\n",
    "        master_df = one_hot_by_classify(df=master_df,x_label=col,y_label='TARGET', max_depth=3)"
   ]
  },
  {
   "cell_type": "markdown",
   "metadata": {},
   "source": [
    "Delete all the rows that below 1021 of data"
   ]
  },
  {
   "cell_type": "code",
   "execution_count": 696,
   "metadata": {},
   "outputs": [
    {
     "name": "stdout",
     "output_type": "stream",
     "text": [
      "307511\n",
      "305545\n"
     ]
    }
   ],
   "source": [
    "print(str(len(master_df)))\n",
    "master_df.dropna(subset=\n",
    "                 missing_columns[(missing_columns['Missing Values'] <= 1021)].index.tolist()\n",
    "                 , inplace=True)\n",
    "print(str(len(master_df)))"
   ]
  },
  {
   "cell_type": "markdown",
   "metadata": {},
   "source": [
    "Do one hot encoding for the data"
   ]
  },
  {
   "cell_type": "code",
   "execution_count": 63,
   "metadata": {},
   "outputs": [],
   "source": [
    "# master_df = pd.get_dummies(master_df, dummy_na=True)"
   ]
  },
  {
   "cell_type": "markdown",
   "metadata": {},
   "source": [
    "do we have missing values?"
   ]
  },
  {
   "cell_type": "code",
   "execution_count": 697,
   "metadata": {},
   "outputs": [
    {
     "name": "stdout",
     "output_type": "stream",
     "text": [
      "Your selected dataframe has 452 columns.\n",
      "There are 0 columns that have missing values.\n"
     ]
    },
    {
     "data": {
      "text/html": [
       "<div>\n",
       "<style scoped>\n",
       "    .dataframe tbody tr th:only-of-type {\n",
       "        vertical-align: middle;\n",
       "    }\n",
       "\n",
       "    .dataframe tbody tr th {\n",
       "        vertical-align: top;\n",
       "    }\n",
       "\n",
       "    .dataframe thead th {\n",
       "        text-align: right;\n",
       "    }\n",
       "</style>\n",
       "<table border=\"1\" class=\"dataframe\">\n",
       "  <thead>\n",
       "    <tr style=\"text-align: right;\">\n",
       "      <th></th>\n",
       "      <th>Missing Values</th>\n",
       "      <th>% of Total Values</th>\n",
       "    </tr>\n",
       "  </thead>\n",
       "  <tbody>\n",
       "  </tbody>\n",
       "</table>\n",
       "</div>"
      ],
      "text/plain": [
       "Empty DataFrame\n",
       "Columns: [Missing Values, % of Total Values]\n",
       "Index: []"
      ]
     },
     "execution_count": 697,
     "metadata": {},
     "output_type": "execute_result"
    }
   ],
   "source": [
    "missing_values_table(master_df)"
   ]
  },
  {
   "cell_type": "markdown",
   "metadata": {},
   "source": [
    "cool"
   ]
  },
  {
   "cell_type": "markdown",
   "metadata": {},
   "source": [
    "## Outliers"
   ]
  },
  {
   "cell_type": "markdown",
   "metadata": {},
   "source": [
    "lets check wich of the columns are a candidate for having outliers, \n",
    "\n",
    "the following code reveals wich column has data that is not 1 or 0"
   ]
  },
  {
   "cell_type": "code",
   "execution_count": 698,
   "metadata": {},
   "outputs": [],
   "source": [
    "outlier_df = master_df.copy()"
   ]
  },
  {
   "cell_type": "code",
   "execution_count": 699,
   "metadata": {},
   "outputs": [
    {
     "data": {
      "text/html": [
       "<div>\n",
       "<style scoped>\n",
       "    .dataframe tbody tr th:only-of-type {\n",
       "        vertical-align: middle;\n",
       "    }\n",
       "\n",
       "    .dataframe tbody tr th {\n",
       "        vertical-align: top;\n",
       "    }\n",
       "\n",
       "    .dataframe thead th {\n",
       "        text-align: right;\n",
       "    }\n",
       "</style>\n",
       "<table border=\"1\" class=\"dataframe\">\n",
       "  <thead>\n",
       "    <tr style=\"text-align: right;\">\n",
       "      <th></th>\n",
       "      <th>ColName</th>\n",
       "      <th>OutlierCount</th>\n",
       "    </tr>\n",
       "  </thead>\n",
       "  <tbody>\n",
       "    <tr>\n",
       "      <th>0</th>\n",
       "      <td>CNT_CHILDREN</td>\n",
       "      <td>4246</td>\n",
       "    </tr>\n",
       "    <tr>\n",
       "      <th>1</th>\n",
       "      <td>AMT_INCOME_TOTAL</td>\n",
       "      <td>443</td>\n",
       "    </tr>\n",
       "    <tr>\n",
       "      <th>2</th>\n",
       "      <td>AMT_CREDIT</td>\n",
       "      <td>3248</td>\n",
       "    </tr>\n",
       "    <tr>\n",
       "      <th>3</th>\n",
       "      <td>AMT_ANNUITY</td>\n",
       "      <td>2951</td>\n",
       "    </tr>\n",
       "    <tr>\n",
       "      <th>4</th>\n",
       "      <td>AMT_GOODS_PRICE</td>\n",
       "      <td>4158</td>\n",
       "    </tr>\n",
       "    <tr>\n",
       "      <th>5</th>\n",
       "      <td>REGION_POPULATION_RELATIVE</td>\n",
       "      <td>8289</td>\n",
       "    </tr>\n",
       "    <tr>\n",
       "      <th>6</th>\n",
       "      <td>DAYS_REGISTRATION</td>\n",
       "      <td>744</td>\n",
       "    </tr>\n",
       "    <tr>\n",
       "      <th>7</th>\n",
       "      <td>CNT_FAM_MEMBERS</td>\n",
       "      <td>3982</td>\n",
       "    </tr>\n",
       "    <tr>\n",
       "      <th>8</th>\n",
       "      <td>HOUR_APPR_PROCESS_START</td>\n",
       "      <td>620</td>\n",
       "    </tr>\n",
       "    <tr>\n",
       "      <th>9</th>\n",
       "      <td>OBS_30_CNT_SOCIAL_CIRCLE</td>\n",
       "      <td>6143</td>\n",
       "    </tr>\n",
       "    <tr>\n",
       "      <th>10</th>\n",
       "      <td>DEF_30_CNT_SOCIAL_CIRCLE</td>\n",
       "      <td>6818</td>\n",
       "    </tr>\n",
       "    <tr>\n",
       "      <th>11</th>\n",
       "      <td>OBS_60_CNT_SOCIAL_CIRCLE</td>\n",
       "      <td>5967</td>\n",
       "    </tr>\n",
       "    <tr>\n",
       "      <th>12</th>\n",
       "      <td>DEF_60_CNT_SOCIAL_CIRCLE</td>\n",
       "      <td>3917</td>\n",
       "    </tr>\n",
       "    <tr>\n",
       "      <th>13</th>\n",
       "      <td>DAYS_LAST_PHONE_CHANGE</td>\n",
       "      <td>625</td>\n",
       "    </tr>\n",
       "  </tbody>\n",
       "</table>\n",
       "</div>"
      ],
      "text/plain": [
       "                       ColName OutlierCount\n",
       "0                 CNT_CHILDREN         4246\n",
       "1             AMT_INCOME_TOTAL          443\n",
       "2                   AMT_CREDIT         3248\n",
       "3                  AMT_ANNUITY         2951\n",
       "4              AMT_GOODS_PRICE         4158\n",
       "5   REGION_POPULATION_RELATIVE         8289\n",
       "6            DAYS_REGISTRATION          744\n",
       "7              CNT_FAM_MEMBERS         3982\n",
       "8      HOUR_APPR_PROCESS_START          620\n",
       "9     OBS_30_CNT_SOCIAL_CIRCLE         6143\n",
       "10    DEF_30_CNT_SOCIAL_CIRCLE         6818\n",
       "11    OBS_60_CNT_SOCIAL_CIRCLE         5967\n",
       "12    DEF_60_CNT_SOCIAL_CIRCLE         3917\n",
       "13      DAYS_LAST_PHONE_CHANGE          625"
      ]
     },
     "execution_count": 699,
     "metadata": {},
     "output_type": "execute_result"
    }
   ],
   "source": [
    "outlier_report = pd.DataFrame(columns=['ColName','OutlierCount'])\n",
    "\n",
    "for col in outlier_df:\n",
    "    if (len(outlier_df[col].unique()) > 2):\n",
    "        zscore_mask =  zscore_outliers(outlier_df[col], cutoff=3.0, return_thresholds=False)\n",
    "        outlier_len = len(outlier_df[col][zscore_mask])\n",
    "        if (outlier_len == 0):\n",
    "            continue   \n",
    "        outlier_report = outlier_report.append({'ColName':col, 'OutlierCount' : outlier_len} , ignore_index=True)\n",
    "        \n",
    "outlier_report"
   ]
  },
  {
   "cell_type": "code",
   "execution_count": 133,
   "metadata": {},
   "outputs": [
    {
     "data": {
      "text/plain": [
       "<matplotlib.axes._subplots.AxesSubplot at 0x21d13a10400>"
      ]
     },
     "execution_count": 133,
     "metadata": {},
     "output_type": "execute_result"
    },
    {
     "data": {
      "image/png": "[encoded data removed]",
      "text/plain": [
       "<Figure size 432x288 with 1 Axes>"
      ]
     },
     "metadata": {},
     "output_type": "display_data"
    }
   ],
   "source": [
    "sns.boxplot(y=outlier_df['CNT_CHILDREN'])"
   ]
  },
  {
   "cell_type": "markdown",
   "metadata": {},
   "source": [
    "17 children!?! lets see who has more then 15"
   ]
  },
  {
   "cell_type": "code",
   "execution_count": 191,
   "metadata": {},
   "outputs": [
    {
     "data": {
      "text/html": [
       "<div>\n",
       "<style scoped>\n",
       "    .dataframe tbody tr th:only-of-type {\n",
       "        vertical-align: middle;\n",
       "    }\n",
       "\n",
       "    .dataframe tbody tr th {\n",
       "        vertical-align: top;\n",
       "    }\n",
       "\n",
       "    .dataframe thead th {\n",
       "        text-align: right;\n",
       "    }\n",
       "</style>\n",
       "<table border=\"1\" class=\"dataframe\">\n",
       "  <thead>\n",
       "    <tr style=\"text-align: right;\">\n",
       "      <th></th>\n",
       "      <th>CNT_CHILDREN</th>\n",
       "    </tr>\n",
       "  </thead>\n",
       "  <tbody>\n",
       "    <tr>\n",
       "      <th>34545</th>\n",
       "      <td>11</td>\n",
       "    </tr>\n",
       "    <tr>\n",
       "      <th>80948</th>\n",
       "      <td>12</td>\n",
       "    </tr>\n",
       "    <tr>\n",
       "      <th>155369</th>\n",
       "      <td>19</td>\n",
       "    </tr>\n",
       "    <tr>\n",
       "      <th>171125</th>\n",
       "      <td>12</td>\n",
       "    </tr>\n",
       "    <tr>\n",
       "      <th>176011</th>\n",
       "      <td>14</td>\n",
       "    </tr>\n",
       "    <tr>\n",
       "      <th>183878</th>\n",
       "      <td>14</td>\n",
       "    </tr>\n",
       "    <tr>\n",
       "      <th>265784</th>\n",
       "      <td>19</td>\n",
       "    </tr>\n",
       "    <tr>\n",
       "      <th>267998</th>\n",
       "      <td>14</td>\n",
       "    </tr>\n",
       "  </tbody>\n",
       "</table>\n",
       "</div>"
      ],
      "text/plain": [
       "        CNT_CHILDREN\n",
       "34545             11\n",
       "80948             12\n",
       "155369            19\n",
       "171125            12\n",
       "176011            14\n",
       "183878            14\n",
       "265784            19\n",
       "267998            14"
      ]
     },
     "execution_count": 191,
     "metadata": {},
     "output_type": "execute_result"
    }
   ],
   "source": [
    "master_df.loc[outlier_df['CNT_CHILDREN'] > 10, ['CNT_CHILDREN']]"
   ]
  },
  {
   "cell_type": "markdown",
   "metadata": {},
   "source": [
    "poor basterds... i will not treat them as outliers"
   ]
  },
  {
   "cell_type": "code",
   "execution_count": null,
   "metadata": {},
   "outputs": [],
   "source": []
  },
  {
   "cell_type": "code",
   "execution_count": 192,
   "metadata": {},
   "outputs": [
    {
     "data": {
      "text/plain": [
       "<matplotlib.axes._subplots.AxesSubplot at 0x21d003f4d68>"
      ]
     },
     "execution_count": 192,
     "metadata": {},
     "output_type": "execute_result"
    },
    {
     "data": {
      "image/png": "[encoded data removed]",
      "text/plain": [
       "<Figure size 432x288 with 1 Axes>"
      ]
     },
     "metadata": {},
     "output_type": "display_data"
    }
   ],
   "source": [
    "sns.boxplot(y=outlier_df['AMT_INCOME_TOTAL'])"
   ]
  },
  {
   "cell_type": "code",
   "execution_count": 193,
   "metadata": {},
   "outputs": [],
   "source": [
    "over_milion = outlier_df.loc[outlier_df['AMT_INCOME_TOTAL'] > 1000000, ['AMT_INCOME_TOTAL','TARGET']]"
   ]
  },
  {
   "cell_type": "code",
   "execution_count": 194,
   "metadata": {},
   "outputs": [
    {
     "data": {
      "text/plain": [
       "244"
      ]
     },
     "execution_count": 194,
     "metadata": {},
     "output_type": "execute_result"
    }
   ],
   "source": [
    "len(over_milion)"
   ]
  },
  {
   "cell_type": "code",
   "execution_count": 196,
   "metadata": {},
   "outputs": [
    {
     "data": {
      "text/plain": [
       "13"
      ]
     },
     "execution_count": 196,
     "metadata": {},
     "output_type": "execute_result"
    }
   ],
   "source": [
    "len(over_milion.loc[over_milion['TARGET'] == 1,  ['AMT_INCOME_TOTAL','TARGET']] )"
   ]
  },
  {
   "cell_type": "code",
   "execution_count": 197,
   "metadata": {},
   "outputs": [
    {
     "data": {
      "text/html": [
       "<div>\n",
       "<style scoped>\n",
       "    .dataframe tbody tr th:only-of-type {\n",
       "        vertical-align: middle;\n",
       "    }\n",
       "\n",
       "    .dataframe tbody tr th {\n",
       "        vertical-align: top;\n",
       "    }\n",
       "\n",
       "    .dataframe thead th {\n",
       "        text-align: right;\n",
       "    }\n",
       "</style>\n",
       "<table border=\"1\" class=\"dataframe\">\n",
       "  <thead>\n",
       "    <tr style=\"text-align: right;\">\n",
       "      <th></th>\n",
       "      <th>AMT_INCOME_TOTAL</th>\n",
       "      <th>TARGET</th>\n",
       "    </tr>\n",
       "  </thead>\n",
       "  <tbody>\n",
       "    <tr>\n",
       "      <th>12840</th>\n",
       "      <td>117000000.0</td>\n",
       "      <td>1</td>\n",
       "    </tr>\n",
       "    <tr>\n",
       "      <th>38271</th>\n",
       "      <td>1125000.0</td>\n",
       "      <td>1</td>\n",
       "    </tr>\n",
       "    <tr>\n",
       "      <th>41725</th>\n",
       "      <td>1890000.0</td>\n",
       "      <td>1</td>\n",
       "    </tr>\n",
       "    <tr>\n",
       "      <th>102626</th>\n",
       "      <td>1305000.0</td>\n",
       "      <td>1</td>\n",
       "    </tr>\n",
       "    <tr>\n",
       "      <th>151018</th>\n",
       "      <td>1080000.0</td>\n",
       "      <td>1</td>\n",
       "    </tr>\n",
       "    <tr>\n",
       "      <th>167656</th>\n",
       "      <td>1575000.0</td>\n",
       "      <td>1</td>\n",
       "    </tr>\n",
       "    <tr>\n",
       "      <th>173663</th>\n",
       "      <td>1350000.0</td>\n",
       "      <td>1</td>\n",
       "    </tr>\n",
       "    <tr>\n",
       "      <th>196106</th>\n",
       "      <td>1350000.0</td>\n",
       "      <td>1</td>\n",
       "    </tr>\n",
       "    <tr>\n",
       "      <th>234728</th>\n",
       "      <td>1350000.0</td>\n",
       "      <td>1</td>\n",
       "    </tr>\n",
       "    <tr>\n",
       "      <th>234861</th>\n",
       "      <td>1260000.0</td>\n",
       "      <td>1</td>\n",
       "    </tr>\n",
       "    <tr>\n",
       "      <th>248159</th>\n",
       "      <td>3150000.0</td>\n",
       "      <td>1</td>\n",
       "    </tr>\n",
       "    <tr>\n",
       "      <th>248970</th>\n",
       "      <td>1890000.0</td>\n",
       "      <td>1</td>\n",
       "    </tr>\n",
       "    <tr>\n",
       "      <th>265884</th>\n",
       "      <td>1170000.0</td>\n",
       "      <td>1</td>\n",
       "    </tr>\n",
       "  </tbody>\n",
       "</table>\n",
       "</div>"
      ],
      "text/plain": [
       "        AMT_INCOME_TOTAL  TARGET\n",
       "12840        117000000.0       1\n",
       "38271          1125000.0       1\n",
       "41725          1890000.0       1\n",
       "102626         1305000.0       1\n",
       "151018         1080000.0       1\n",
       "167656         1575000.0       1\n",
       "173663         1350000.0       1\n",
       "196106         1350000.0       1\n",
       "234728         1350000.0       1\n",
       "234861         1260000.0       1\n",
       "248159         3150000.0       1\n",
       "248970         1890000.0       1\n",
       "265884         1170000.0       1"
      ]
     },
     "execution_count": 197,
     "metadata": {},
     "output_type": "execute_result"
    }
   ],
   "source": [
    "over_milion.loc[over_milion['TARGET'] == 1,  ['AMT_INCOME_TOTAL','TARGET']] "
   ]
  },
  {
   "cell_type": "markdown",
   "metadata": {},
   "source": [
    "removing 224 recordes of peoplt the earn more then 1000000 $"
   ]
  },
  {
   "cell_type": "code",
   "execution_count": 210,
   "metadata": {},
   "outputs": [
    {
     "name": "stdout",
     "output_type": "stream",
     "text": [
      "305301\n",
      "305301\n"
     ]
    }
   ],
   "source": [
    "print(str(len(outlier_df)))\n",
    "outlier_df = outlier_df[~(outlier_df['AMT_INCOME_TOTAL'] > 1000000)]\n",
    "print(str(len(outlier_df)))"
   ]
  },
  {
   "cell_type": "code",
   "execution_count": 223,
   "metadata": {},
   "outputs": [
    {
     "data": {
      "text/plain": [
       "<matplotlib.axes._subplots.AxesSubplot at 0x21d13aeeda0>"
      ]
     },
     "execution_count": 223,
     "metadata": {},
     "output_type": "execute_result"
    },
    {
     "data": {
      "image/png": "[encoded data removed]",
      "text/plain": [
       "<Figure size 432x288 with 1 Axes>"
      ]
     },
     "metadata": {},
     "output_type": "display_data"
    }
   ],
   "source": [
    "sns.boxplot(y=outlier_df['AMT_CREDIT'])"
   ]
  },
  {
   "cell_type": "code",
   "execution_count": 221,
   "metadata": {},
   "outputs": [],
   "source": [
    "amt_cradit_df = outlier_df.loc[outlier_df['AMT_CREDIT'] > 2000000, ['AMT_CREDIT','TARGET']]"
   ]
  },
  {
   "cell_type": "markdown",
   "metadata": {},
   "source": [
    "removing 224 recordes of peoplt the with cradit over 2000000 $"
   ]
  },
  {
   "cell_type": "code",
   "execution_count": 220,
   "metadata": {},
   "outputs": [
    {
     "name": "stdout",
     "output_type": "stream",
     "text": [
      "305301\n",
      "303309\n"
     ]
    }
   ],
   "source": [
    "print(str(len(outlier_df)))\n",
    "outlier_df = outlier_df[~(outlier_df['AMT_CREDIT'] > 2000000)]\n",
    "print(str(len(outlier_df)))"
   ]
  },
  {
   "cell_type": "code",
   "execution_count": 136,
   "metadata": {},
   "outputs": [
    {
     "data": {
      "text/plain": [
       "<matplotlib.axes._subplots.AxesSubplot at 0x21d47ce5da0>"
      ]
     },
     "execution_count": 136,
     "metadata": {},
     "output_type": "execute_result"
    },
    {
     "data": {
      "image/png": "[encoded data removed]",
      "text/plain": [
       "<Figure size 432x288 with 1 Axes>"
      ]
     },
     "metadata": {},
     "output_type": "display_data"
    }
   ],
   "source": [
    "sns.boxplot(y=outlier_df['AMT_ANNUITY'])"
   ]
  },
  {
   "cell_type": "code",
   "execution_count": 229,
   "metadata": {},
   "outputs": [],
   "source": [
    "amt_annuity_df = outlier_df.loc[outlier_df['AMT_ANNUITY'] > 100000, ['AMT_ANNUITY','TARGET']]"
   ]
  },
  {
   "cell_type": "code",
   "execution_count": 230,
   "metadata": {},
   "outputs": [
    {
     "data": {
      "text/plain": [
       "369"
      ]
     },
     "execution_count": 230,
     "metadata": {},
     "output_type": "execute_result"
    }
   ],
   "source": [
    "len(amt_annuity_df)"
   ]
  },
  {
   "cell_type": "markdown",
   "metadata": {},
   "source": [
    "removing 224 recordes of peoplt the with AMT_ANNUITY over 100000 $"
   ]
  },
  {
   "cell_type": "code",
   "execution_count": 231,
   "metadata": {},
   "outputs": [
    {
     "name": "stdout",
     "output_type": "stream",
     "text": [
      "303309\n",
      "302940\n"
     ]
    }
   ],
   "source": [
    "print(str(len(outlier_df)))\n",
    "outlier_df = outlier_df[~(outlier_df['AMT_ANNUITY'] > 100000)]\n",
    "print(str(len(outlier_df)))"
   ]
  },
  {
   "cell_type": "code",
   "execution_count": 234,
   "metadata": {},
   "outputs": [
    {
     "data": {
      "text/plain": [
       "<matplotlib.axes._subplots.AxesSubplot at 0x21d004b2c50>"
      ]
     },
     "execution_count": 234,
     "metadata": {},
     "output_type": "execute_result"
    },
    {
     "data": {
      "image/png": "[encoded data removed]",
      "text/plain": [
       "<Figure size 432x288 with 1 Axes>"
      ]
     },
     "metadata": {},
     "output_type": "display_data"
    }
   ],
   "source": [
    "sns.boxplot(y=outlier_df['AMT_GOODS_PRICE'])"
   ]
  },
  {
   "cell_type": "code",
   "execution_count": 232,
   "metadata": {},
   "outputs": [],
   "source": [
    "goods_price_df = outlier_df.loc[outlier_df['AMT_GOODS_PRICE'] > 2000000, ['AMT_GOODS_PRICE','TARGET']]"
   ]
  },
  {
   "cell_type": "code",
   "execution_count": 233,
   "metadata": {},
   "outputs": [
    {
     "data": {
      "text/plain": [
       "0"
      ]
     },
     "execution_count": 233,
     "metadata": {},
     "output_type": "execute_result"
    }
   ],
   "source": [
    "len(goods_price_df)"
   ]
  },
  {
   "cell_type": "markdown",
   "metadata": {},
   "source": [
    "probably lines removed by previous outliers"
   ]
  },
  {
   "cell_type": "code",
   "execution_count": 138,
   "metadata": {},
   "outputs": [
    {
     "data": {
      "text/plain": [
       "<matplotlib.axes._subplots.AxesSubplot at 0x21d47b031d0>"
      ]
     },
     "execution_count": 138,
     "metadata": {},
     "output_type": "execute_result"
    },
    {
     "data": {
      "image/png": "[encoded data removed]",
      "text/plain": [
       "<Figure size 432x288 with 1 Axes>"
      ]
     },
     "metadata": {},
     "output_type": "display_data"
    }
   ],
   "source": [
    "sns.boxplot(y=outlier_df['REGION_POPULATION_RELATIVE'])"
   ]
  },
  {
   "cell_type": "code",
   "execution_count": 242,
   "metadata": {},
   "outputs": [
    {
     "data": {
      "text/plain": [
       "7938"
      ]
     },
     "execution_count": 242,
     "metadata": {},
     "output_type": "execute_result"
    }
   ],
   "source": [
    "region_df = outlier_df.loc[outlier_df['REGION_POPULATION_RELATIVE'] > 0.07, ['REGION_POPULATION_RELATIVE','TARGET']]\n",
    "len(region_df)"
   ]
  },
  {
   "cell_type": "code",
   "execution_count": 245,
   "metadata": {},
   "outputs": [
    {
     "data": {
      "text/plain": [
       "330"
      ]
     },
     "execution_count": 245,
     "metadata": {},
     "output_type": "execute_result"
    }
   ],
   "source": [
    "region_df_defaulted = len(region_df.loc[outlier_df['TARGET'] == 1, ['REGION_POPULATION_RELATIVE','TARGET']])\n",
    "region_df_defaulted\n"
   ]
  },
  {
   "cell_type": "markdown",
   "metadata": {},
   "source": [
    "removing that one as wll.. not sure its a good thing..."
   ]
  },
  {
   "cell_type": "code",
   "execution_count": 246,
   "metadata": {},
   "outputs": [
    {
     "name": "stdout",
     "output_type": "stream",
     "text": [
      "302940\n",
      "295002\n"
     ]
    }
   ],
   "source": [
    "print(str(len(outlier_df)))\n",
    "outlier_df = outlier_df[~(outlier_df['REGION_POPULATION_RELATIVE'] > 0.07)]\n",
    "print(str(len(outlier_df)))"
   ]
  },
  {
   "cell_type": "code",
   "execution_count": 247,
   "metadata": {},
   "outputs": [
    {
     "data": {
      "text/plain": [
       "<matplotlib.axes._subplots.AxesSubplot at 0x21d13a3c4e0>"
      ]
     },
     "execution_count": 247,
     "metadata": {},
     "output_type": "execute_result"
    },
    {
     "data": {
      "image/png": "[encoded data removed]",
      "text/plain": [
       "<Figure size 432x288 with 1 Axes>"
      ]
     },
     "metadata": {},
     "output_type": "display_data"
    }
   ],
   "source": [
    "sns.boxplot(y=outlier_df['DAYS_REGISTRATION'])"
   ]
  },
  {
   "cell_type": "markdown",
   "metadata": {},
   "source": [
    "not touching this one.."
   ]
  },
  {
   "cell_type": "code",
   "execution_count": 248,
   "metadata": {},
   "outputs": [
    {
     "data": {
      "text/plain": [
       "<matplotlib.axes._subplots.AxesSubplot at 0x21d004ef048>"
      ]
     },
     "execution_count": 248,
     "metadata": {},
     "output_type": "execute_result"
    },
    {
     "data": {
      "image/png": "[encoded data removed]",
      "text/plain": [
       "<Figure size 432x288 with 1 Axes>"
      ]
     },
     "metadata": {},
     "output_type": "display_data"
    }
   ],
   "source": [
    "sns.boxplot(y=outlier_df['CNT_FAM_MEMBERS'])"
   ]
  },
  {
   "cell_type": "markdown",
   "metadata": {},
   "source": [
    "not touching this one.."
   ]
  },
  {
   "cell_type": "code",
   "execution_count": 141,
   "metadata": {},
   "outputs": [
    {
     "data": {
      "text/plain": [
       "<matplotlib.axes._subplots.AxesSubplot at 0x21d001c3cc0>"
      ]
     },
     "execution_count": 141,
     "metadata": {},
     "output_type": "execute_result"
    },
    {
     "data": {
      "image/png": "[encoded data removed]",
      "text/plain": [
       "<Figure size 432x288 with 1 Axes>"
      ]
     },
     "metadata": {},
     "output_type": "display_data"
    }
   ],
   "source": [
    "sns.boxplot(y=outlier_df['HOUR_APPR_PROCESS_START'])"
   ]
  },
  {
   "cell_type": "markdown",
   "metadata": {},
   "source": [
    "not touching this one.."
   ]
  },
  {
   "cell_type": "code",
   "execution_count": 249,
   "metadata": {},
   "outputs": [
    {
     "data": {
      "text/plain": [
       "<matplotlib.axes._subplots.AxesSubplot at 0x21d00d83748>"
      ]
     },
     "execution_count": 249,
     "metadata": {},
     "output_type": "execute_result"
    },
    {
     "data": {
      "image/png": "[encoded data removed]",
      "text/plain": [
       "<Figure size 432x288 with 1 Axes>"
      ]
     },
     "metadata": {},
     "output_type": "display_data"
    }
   ],
   "source": [
    "sns.boxplot(y=outlier_df['OBS_30_CNT_SOCIAL_CIRCLE'])"
   ]
  },
  {
   "cell_type": "code",
   "execution_count": 250,
   "metadata": {},
   "outputs": [
    {
     "data": {
      "text/plain": [
       "1"
      ]
     },
     "execution_count": 250,
     "metadata": {},
     "output_type": "execute_result"
    }
   ],
   "source": [
    "social_df = outlier_df.loc[outlier_df['OBS_30_CNT_SOCIAL_CIRCLE'] >100, ['OBS_30_CNT_SOCIAL_CIRCLE','TARGET']]\n",
    "len(social_df)"
   ]
  },
  {
   "cell_type": "markdown",
   "metadata": {},
   "source": [
    "clearly removing"
   ]
  },
  {
   "cell_type": "code",
   "execution_count": 251,
   "metadata": {},
   "outputs": [
    {
     "name": "stdout",
     "output_type": "stream",
     "text": [
      "295002\n",
      "295001\n"
     ]
    }
   ],
   "source": [
    "print(str(len(outlier_df)))\n",
    "outlier_df = outlier_df[~(outlier_df['OBS_30_CNT_SOCIAL_CIRCLE'] > 100)]\n",
    "print(str(len(outlier_df)))"
   ]
  },
  {
   "cell_type": "code",
   "execution_count": 143,
   "metadata": {},
   "outputs": [
    {
     "data": {
      "text/plain": [
       "<matplotlib.axes._subplots.AxesSubplot at 0x21d00282dd8>"
      ]
     },
     "execution_count": 143,
     "metadata": {},
     "output_type": "execute_result"
    },
    {
     "data": {
      "image/png": "[encoded data removed]",
      "text/plain": [
       "<Figure size 432x288 with 1 Axes>"
      ]
     },
     "metadata": {},
     "output_type": "display_data"
    }
   ],
   "source": [
    "sns.boxplot(y=outlier_df['DEF_30_CNT_SOCIAL_CIRCLE'])"
   ]
  },
  {
   "cell_type": "code",
   "execution_count": 252,
   "metadata": {},
   "outputs": [
    {
     "data": {
      "text/plain": [
       "0"
      ]
     },
     "execution_count": 252,
     "metadata": {},
     "output_type": "execute_result"
    }
   ],
   "source": [
    "social_df = outlier_df.loc[outlier_df['DEF_30_CNT_SOCIAL_CIRCLE'] >100, ['DEF_30_CNT_SOCIAL_CIRCLE','TARGET']]\n",
    "len(social_df)"
   ]
  },
  {
   "cell_type": "markdown",
   "metadata": {},
   "source": [
    "probably removed by removing OBS_30_CNT_SOCIAL_CIRCLE"
   ]
  },
  {
   "cell_type": "code",
   "execution_count": null,
   "metadata": {},
   "outputs": [],
   "source": []
  },
  {
   "cell_type": "code",
   "execution_count": 144,
   "metadata": {},
   "outputs": [
    {
     "data": {
      "text/plain": [
       "<matplotlib.axes._subplots.AxesSubplot at 0x21d0052ecf8>"
      ]
     },
     "execution_count": 144,
     "metadata": {},
     "output_type": "execute_result"
    },
    {
     "data": {
      "image/png": "[encoded data removed]",
      "text/plain": [
       "<Figure size 432x288 with 1 Axes>"
      ]
     },
     "metadata": {},
     "output_type": "display_data"
    }
   ],
   "source": [
    "sns.boxplot(y=outlier_df['OBS_60_CNT_SOCIAL_CIRCLE'])"
   ]
  },
  {
   "cell_type": "code",
   "execution_count": 255,
   "metadata": {},
   "outputs": [
    {
     "data": {
      "text/plain": [
       "0"
      ]
     },
     "execution_count": 255,
     "metadata": {},
     "output_type": "execute_result"
    }
   ],
   "source": [
    "social_df = outlier_df.loc[outlier_df['OBS_60_CNT_SOCIAL_CIRCLE'] >50, ['OBS_60_CNT_SOCIAL_CIRCLE','TARGET']]\n",
    "len(social_df)"
   ]
  },
  {
   "cell_type": "markdown",
   "metadata": {},
   "source": [
    "probably removed by removing OBS_30_CNT_SOCIAL_CIRCLE"
   ]
  },
  {
   "cell_type": "code",
   "execution_count": 145,
   "metadata": {},
   "outputs": [
    {
     "data": {
      "text/plain": [
       "<matplotlib.axes._subplots.AxesSubplot at 0x21d13b6ceb8>"
      ]
     },
     "execution_count": 145,
     "metadata": {},
     "output_type": "execute_result"
    },
    {
     "data": {
      "image/png": "[encoded data removed]",
      "text/plain": [
       "<Figure size 432x288 with 1 Axes>"
      ]
     },
     "metadata": {},
     "output_type": "display_data"
    }
   ],
   "source": [
    "sns.boxplot(y=outlier_df['DEF_60_CNT_SOCIAL_CIRCLE'])"
   ]
  },
  {
   "cell_type": "code",
   "execution_count": 256,
   "metadata": {},
   "outputs": [
    {
     "data": {
      "text/plain": [
       "0"
      ]
     },
     "execution_count": 256,
     "metadata": {},
     "output_type": "execute_result"
    }
   ],
   "source": [
    "social_df = outlier_df.loc[outlier_df['DEF_60_CNT_SOCIAL_CIRCLE'] >100, ['DEF_60_CNT_SOCIAL_CIRCLE','TARGET']]\n",
    "len(social_df)"
   ]
  },
  {
   "cell_type": "markdown",
   "metadata": {},
   "source": [
    "probably removed by removing OBS_30_CNT_SOCIAL_CIRCLE"
   ]
  },
  {
   "cell_type": "code",
   "execution_count": 146,
   "metadata": {},
   "outputs": [
    {
     "data": {
      "text/plain": [
       "<matplotlib.axes._subplots.AxesSubplot at 0x21d00354ef0>"
      ]
     },
     "execution_count": 146,
     "metadata": {},
     "output_type": "execute_result"
    },
    {
     "data": {
      "image/png": "[encoded data removed]",
      "text/plain": [
       "<Figure size 432x288 with 1 Axes>"
      ]
     },
     "metadata": {},
     "output_type": "display_data"
    }
   ],
   "source": [
    "sns.boxplot(y=outlier_df['DAYS_LAST_PHONE_CHANGE'])"
   ]
  },
  {
   "cell_type": "code",
   "execution_count": 257,
   "metadata": {},
   "outputs": [
    {
     "data": {
      "text/plain": [
       "0"
      ]
     },
     "execution_count": 257,
     "metadata": {},
     "output_type": "execute_result"
    }
   ],
   "source": [
    "phone_changed = outlier_df.loc[outlier_df['DAYS_LAST_PHONE_CHANGE'] < -3500, ['DAYS_LAST_PHONE_CHANGE','TARGET']]\n",
    "len(social_df)"
   ]
  },
  {
   "cell_type": "markdown",
   "metadata": {},
   "source": [
    "probably removed by removing OBS_30_CNT_SOCIAL_CIRCLE"
   ]
  },
  {
   "cell_type": "markdown",
   "metadata": {},
   "source": [
    "## Flat file Saving"
   ]
  },
  {
   "cell_type": "code",
   "execution_count": 258,
   "metadata": {},
   "outputs": [],
   "source": [
    "master_df.to_csv('../data/flat_file.zip', compression='zip')\n",
    "outlier_df.to_csv('../data/flat_file_no_outliers.zip', compression='zip')"
   ]
  },
  {
   "cell_type": "markdown",
   "metadata": {},
   "source": [
    "## Feature Importance"
   ]
  },
  {
   "cell_type": "code",
   "execution_count": 4,
   "metadata": {},
   "outputs": [],
   "source": [
    "prog_df = pd.read_csv('../data/flat_file_no_outliers.zip', compression='zip')\n",
    "#drop unwanted columns\n",
    "prog_df.drop(columns=['Unnamed: 0'], inplace=True)"
   ]
  },
  {
   "cell_type": "code",
   "execution_count": 7,
   "metadata": {},
   "outputs": [
    {
     "data": {
      "text/plain": [
       "(295001, 452)"
      ]
     },
     "execution_count": 7,
     "metadata": {},
     "output_type": "execute_result"
    }
   ],
   "source": [
    "prog_df.shape"
   ]
  },
  {
   "cell_type": "markdown",
   "metadata": {},
   "source": [
    "Devide to basic train/test"
   ]
  },
  {
   "cell_type": "code",
   "execution_count": 5,
   "metadata": {},
   "outputs": [],
   "source": [
    "y = prog_df['TARGET']"
   ]
  },
  {
   "cell_type": "code",
   "execution_count": 6,
   "metadata": {},
   "outputs": [],
   "source": [
    "X = prog_df.drop(columns=['TARGET'])"
   ]
  },
  {
   "cell_type": "markdown",
   "metadata": {},
   "source": [
    "Run feature_importance_table function thats uses 3 models (Lasso, Random forest, Xgboot) and decide who are the best features"
   ]
  },
  {
   "cell_type": "code",
   "execution_count": 268,
   "metadata": {
    "scrolled": true
   },
   "outputs": [
    {
     "name": "stdout",
     "output_type": "stream",
     "text": [
      "running Lasso\n",
      "running RF\n",
      "running GXB\n"
     ]
    }
   ],
   "source": [
    "coaf_df, xgb_reg, lasso_reg, rnd_reg, feature_list = feature_importance_table(X, y, 2);"
   ]
  },
  {
   "cell_type": "code",
   "execution_count": 8,
   "metadata": {},
   "outputs": [
    {
     "data": {
      "text/plain": [
       "['DAYS_LAST_PHONE_CHANGE',\n",
       " 'AMT_ANNUITY',\n",
       " 'DAYS_ID_PUBLISH',\n",
       " 'DAYS_REGISTRATION',\n",
       " 'AMT_GOODS_PRICE',\n",
       " 'DAYS_BIRTH',\n",
       " 'AMT_CREDIT',\n",
       " 'AMT_INCOME_TOTAL',\n",
       " 'NAME_FAMILY_STATUS_Married',\n",
       " 'EXT_SOURCE_3_0.0005272652387098817-0.1455428133497032',\n",
       " 'DEF_60_CNT_SOCIAL_CIRCLE',\n",
       " 'DAYS_EMPLOYED_0.0-982.0',\n",
       " 'DEF_30_CNT_SOCIAL_CIRCLE',\n",
       " 'OBS_30_CNT_SOCIAL_CIRCLE',\n",
       " 'EXT_SOURCE_2',\n",
       " 'EXT_SOURCE_1_nan',\n",
       " 'EXT_SOURCE_3_0.5046813193144684-0.8960095494948396',\n",
       " 'EXT_SOURCE_3_0.14644206667896328-0.31547215492577346',\n",
       " 'REGION_RATING_CLIENT_W_CITY',\n",
       " 'HOUR_APPR_PROCESS_START',\n",
       " 'REGION_POPULATION_RELATIVE',\n",
       " 'NAME_INCOME_TYPE_Working',\n",
       " 'FLAG_WORK_PHONE',\n",
       " 'AMT_REQ_CREDIT_BUREAU_YEAR_2.0-5.0',\n",
       " 'CNT_CHILDREN']"
      ]
     },
     "execution_count": 8,
     "metadata": {},
     "output_type": "execute_result"
    }
   ],
   "source": [
    "feature_list"
   ]
  },
  {
   "cell_type": "markdown",
   "metadata": {},
   "source": [
    "Here are the selected features"
   ]
  },
  {
   "cell_type": "code",
   "execution_count": 307,
   "metadata": {},
   "outputs": [
    {
     "data": {
      "text/plain": [
       "25"
      ]
     },
     "execution_count": 307,
     "metadata": {},
     "output_type": "execute_result"
    }
   ],
   "source": [
    "len(feature_list)"
   ]
  },
  {
   "cell_type": "markdown",
   "metadata": {},
   "source": [
    "## Model  Selection"
   ]
  },
  {
   "cell_type": "markdown",
   "metadata": {},
   "source": [
    "split the data using train_test_split\n",
    "\n",
    "As we noticed before the data is unbalanced so we will take it into considoration"
   ]
  },
  {
   "cell_type": "code",
   "execution_count": 563,
   "metadata": {},
   "outputs": [],
   "source": [
    "model_comparison = pd.DataFrame(columns=['Model','NoBalance', 'UnderSampling', 'OverSampling', 'smoth'])"
   ]
  },
  {
   "cell_type": "code",
   "execution_count": 9,
   "metadata": {},
   "outputs": [],
   "source": [
    "X = prog_df.drop(columns=['TARGET'])\n",
    "y = prog_df['TARGET']"
   ]
  },
  {
   "cell_type": "code",
   "execution_count": 10,
   "metadata": {},
   "outputs": [],
   "source": [
    "X_train, X_test, y_train, y_test = train_test_split(X, y,stratify=y,test_size=0.20)"
   ]
  },
  {
   "cell_type": "markdown",
   "metadata": {},
   "source": [
    "split to dev"
   ]
  },
  {
   "cell_type": "code",
   "execution_count": 11,
   "metadata": {},
   "outputs": [],
   "source": [
    "X_train_d, X_dev, y_train_d, y_dev = train_test_split(X_train, y_train,stratify=y_train,test_size=0.20)"
   ]
  },
  {
   "cell_type": "markdown",
   "metadata": {},
   "source": [
    "show train"
   ]
  },
  {
   "cell_type": "code",
   "execution_count": 14,
   "metadata": {},
   "outputs": [
    {
     "name": "stdout",
     "output_type": "stream",
     "text": [
      "0.08237288135593221\n",
      "0.08237148522906391\n"
     ]
    }
   ],
   "source": [
    "print(len(y_train[y_train == 1]) / len(y_train))\n",
    "print(len(y_test[y_test == 1]) / len(y_test))"
   ]
  },
  {
   "cell_type": "markdown",
   "metadata": {},
   "source": [
    "show dev"
   ]
  },
  {
   "cell_type": "code",
   "execution_count": 15,
   "metadata": {},
   "outputs": [
    {
     "name": "stdout",
     "output_type": "stream",
     "text": [
      "0.08237288135593221\n",
      "0.08237288135593221\n"
     ]
    }
   ],
   "source": [
    "print(len(X_train_d[y_train_d == 1]) / len(y_train_d))\n",
    "print(len(X_dev[y_dev == 1]) / len(y_dev))"
   ]
  },
  {
   "cell_type": "markdown",
   "metadata": {},
   "source": [
    "Select the apropreate lables from train/test dataset"
   ]
  },
  {
   "cell_type": "code",
   "execution_count": 12,
   "metadata": {},
   "outputs": [],
   "source": [
    "X_train = X_train[feature_list]\n",
    "X_test = X_test[feature_list]\n",
    "X_dev = X_dev[feature_list]\n",
    "X_train_d = X_train_d[feature_list]"
   ]
  },
  {
   "cell_type": "markdown",
   "metadata": {},
   "source": [
    "creating RandomUnderSampler dataset"
   ]
  },
  {
   "cell_type": "code",
   "execution_count": 17,
   "metadata": {},
   "outputs": [],
   "source": [
    "ros_under = RandomUnderSampler()\n",
    "# ros_under.fit(X_train, y_train)\n",
    "X_resampled_rus, y_resampled_rus = ros_under.fit_sample(X_train_d, y_train_d)\n",
    "#adding the feature list\n",
    "X_resampled_rus = pd.DataFrame(X_resampled_rus,columns=feature_list)"
   ]
  },
  {
   "cell_type": "markdown",
   "metadata": {},
   "source": [
    "creating RandomOverSampler dataset"
   ]
  },
  {
   "cell_type": "code",
   "execution_count": 13,
   "metadata": {},
   "outputs": [],
   "source": [
    "ros_over = RandomOverSampler()\n",
    "# ros_over.fit(X_train, y_train)\n",
    "X_resampled_ros, y_resampled_ros = ros_over.fit_sample(X_train_d, y_train_d)\n",
    "#adding the feature list\n",
    "X_resampled_ros = pd.DataFrame(X_resampled_ros,columns=feature_list)"
   ]
  },
  {
   "cell_type": "markdown",
   "metadata": {},
   "source": [
    "creating SMOTEENN dataset"
   ]
  },
  {
   "cell_type": "code",
   "execution_count": 551,
   "metadata": {},
   "outputs": [],
   "source": [
    "ros_smoth = SMOTEENN()\n",
    "# ros_smoth.fit(X_train, y_train)\n",
    "X_resampled_smo, y_resampled_smo = ros_smoth.fit_sample(X_train_d, y_train_d)\n",
    "#adding the feature list\n",
    "X_resampled_smo = pd.DataFrame(X_resampled_smo,columns=feature_list)"
   ]
  },
  {
   "cell_type": "code",
   "execution_count": 552,
   "metadata": {},
   "outputs": [
    {
     "name": "stdout",
     "output_type": "stream",
     "text": [
      "31104\n",
      "346496\n",
      "264361\n"
     ]
    }
   ],
   "source": [
    "print(len(X_resampled_rus))\n",
    "print(len(X_resampled_ros))\n",
    "print(len(X_resampled_smo))"
   ]
  },
  {
   "cell_type": "markdown",
   "metadata": {},
   "source": [
    "#### Testing with xgboost on all data variations"
   ]
  },
  {
   "cell_type": "code",
   "execution_count": 557,
   "metadata": {},
   "outputs": [],
   "source": [
    "xg_cls = xgb.XGBClassifier()\n",
    "xg_cls1 = xgb.XGBClassifier()\n",
    "xg_cls2 = xgb.XGBClassifier()\n",
    "xg_cls3 = xgb.XGBClassifier()"
   ]
  },
  {
   "cell_type": "code",
   "execution_count": 561,
   "metadata": {},
   "outputs": [],
   "source": [
    "xg_model = xg_cls.fit(X=X_train_d, y=y_train_d)\n",
    "xg_model_rus = xg_cls1.fit(X=X_resampled_rus, y=y_resampled_rus)\n",
    "xg_model_ros = xg_cls2.fit(X=X_resampled_ros, y=y_resampled_ros)\n",
    "xg_model_smo = xg_cls3.fit(X=X_resampled_smo, y=y_resampled_smo)"
   ]
  },
  {
   "cell_type": "markdown",
   "metadata": {},
   "source": [
    "Run perdication"
   ]
  },
  {
   "cell_type": "code",
   "execution_count": 562,
   "metadata": {},
   "outputs": [],
   "source": [
    "pred_xgb = xg_model.predict(X_dev)\n",
    "pred_xgb_rus = xg_model_rus.predict(X_dev)\n",
    "pred_xgb_ros = xg_model_ros.predict(X_dev)\n",
    "pred_xgb_smo = xg_model_smo.predict(X_dev)"
   ]
  },
  {
   "cell_type": "markdown",
   "metadata": {},
   "source": [
    "Check prediction"
   ]
  },
  {
   "cell_type": "code",
   "execution_count": 564,
   "metadata": {},
   "outputs": [
    {
     "data": {
      "text/html": [
       "<div>\n",
       "<style scoped>\n",
       "    .dataframe tbody tr th:only-of-type {\n",
       "        vertical-align: middle;\n",
       "    }\n",
       "\n",
       "    .dataframe tbody tr th {\n",
       "        vertical-align: top;\n",
       "    }\n",
       "\n",
       "    .dataframe thead th {\n",
       "        text-align: right;\n",
       "    }\n",
       "</style>\n",
       "<table border=\"1\" class=\"dataframe\">\n",
       "  <thead>\n",
       "    <tr style=\"text-align: right;\">\n",
       "      <th></th>\n",
       "      <th>Model</th>\n",
       "      <th>NoBalance</th>\n",
       "      <th>UnderSampling</th>\n",
       "      <th>OverSampling</th>\n",
       "      <th>smoth</th>\n",
       "    </tr>\n",
       "  </thead>\n",
       "  <tbody>\n",
       "    <tr>\n",
       "      <th>0</th>\n",
       "      <td>XGBClassifier</td>\n",
       "      <td>0.502025</td>\n",
       "      <td>0.674454</td>\n",
       "      <td>0.676114</td>\n",
       "      <td>0.517665</td>\n",
       "    </tr>\n",
       "  </tbody>\n",
       "</table>\n",
       "</div>"
      ],
      "text/plain": [
       "           Model  NoBalance  UnderSampling  OverSampling     smoth\n",
       "0  XGBClassifier   0.502025       0.674454      0.676114  0.517665"
      ]
     },
     "execution_count": 564,
     "metadata": {},
     "output_type": "execute_result"
    }
   ],
   "source": [
    "fpr, tpr, thrasholds = roc_curve(y_dev, pred_xgb, pos_label=1)\n",
    "roc_auc1 = auc(fpr, tpr)\n",
    "\n",
    "fpr, tpr, thrasholds = roc_curve(y_dev, pred_xgb_rus, pos_label=1)\n",
    "roc_auc2 = auc(fpr, tpr)\n",
    "\n",
    "fpr, tpr, thrasholds = roc_curve(y_dev, pred_xgb_ros, pos_label=1)\n",
    "roc_auc3 = auc(fpr, tpr)\n",
    "\n",
    "\n",
    "fpr, tpr, thrasholds = roc_curve(y_dev, pred_xgb_smo, pos_label=1)\n",
    "roc_auc4 = auc(fpr, tpr)\n",
    "\n",
    "\n",
    "\n",
    "model_comparison = model_comparison.append({'Model':'XGBClassifier'\n",
    "                        ,'NoBalance' : roc_auc1\n",
    "                        ,'UnderSampling':roc_auc2\n",
    "                        ,'OverSampling': roc_auc3\n",
    "                        ,'smoth' : roc_auc4} , ignore_index=True)\n",
    "model_comparison"
   ]
  },
  {
   "cell_type": "markdown",
   "metadata": {},
   "source": [
    "Ok, not the best, lets continue"
   ]
  },
  {
   "cell_type": "markdown",
   "metadata": {},
   "source": [
    "#### Testing LGBMClassifier"
   ]
  },
  {
   "cell_type": "code",
   "execution_count": 567,
   "metadata": {},
   "outputs": [],
   "source": [
    "lgb_cls = LGBMClassifier()\n",
    "lgb_cls1 = LGBMClassifier()\n",
    "lgb_cls2 = LGBMClassifier()\n",
    "lgb_cls3 = LGBMClassifier()"
   ]
  },
  {
   "cell_type": "code",
   "execution_count": 568,
   "metadata": {},
   "outputs": [],
   "source": [
    "lgb_model = lgb_cls.fit(X=X_train_d, y=y_train_d)\n",
    "lgb_model_rus = lgb_cls1.fit(X=X_resampled_rus, y=y_resampled_rus)\n",
    "lgb_model_ros = lgb_cls2.fit(X=X_resampled_ros, y=y_resampled_ros)\n",
    "lgb_model_smo = lgb_cls3.fit(X=X_resampled_smo, y=y_resampled_smo)"
   ]
  },
  {
   "cell_type": "raw",
   "metadata": {},
   "source": [
    "running predictions"
   ]
  },
  {
   "cell_type": "code",
   "execution_count": 569,
   "metadata": {},
   "outputs": [],
   "source": [
    "pred_lgb = lgb_model.predict(X_dev)\n",
    "pred_lgb_rus =  lgb_model_rus.predict(X_dev)\n",
    "pred_lgb_ros = lgb_model_ros.predict(X_dev)\n",
    "pred_lgb_smo = lgb_model_smo.predict(X_dev)"
   ]
  },
  {
   "cell_type": "code",
   "execution_count": 570,
   "metadata": {},
   "outputs": [
    {
     "data": {
      "text/html": [
       "<div>\n",
       "<style scoped>\n",
       "    .dataframe tbody tr th:only-of-type {\n",
       "        vertical-align: middle;\n",
       "    }\n",
       "\n",
       "    .dataframe tbody tr th {\n",
       "        vertical-align: top;\n",
       "    }\n",
       "\n",
       "    .dataframe thead th {\n",
       "        text-align: right;\n",
       "    }\n",
       "</style>\n",
       "<table border=\"1\" class=\"dataframe\">\n",
       "  <thead>\n",
       "    <tr style=\"text-align: right;\">\n",
       "      <th></th>\n",
       "      <th>Model</th>\n",
       "      <th>NoBalance</th>\n",
       "      <th>UnderSampling</th>\n",
       "      <th>OverSampling</th>\n",
       "      <th>smoth</th>\n",
       "    </tr>\n",
       "  </thead>\n",
       "  <tbody>\n",
       "    <tr>\n",
       "      <th>0</th>\n",
       "      <td>XGBClassifier</td>\n",
       "      <td>0.502025</td>\n",
       "      <td>0.674454</td>\n",
       "      <td>0.676114</td>\n",
       "      <td>0.517665</td>\n",
       "    </tr>\n",
       "    <tr>\n",
       "      <th>1</th>\n",
       "      <td>LGBMClassifier</td>\n",
       "      <td>0.503652</td>\n",
       "      <td>0.676648</td>\n",
       "      <td>0.676939</td>\n",
       "      <td>0.532581</td>\n",
       "    </tr>\n",
       "  </tbody>\n",
       "</table>\n",
       "</div>"
      ],
      "text/plain": [
       "            Model  NoBalance  UnderSampling  OverSampling     smoth\n",
       "0   XGBClassifier   0.502025       0.674454      0.676114  0.517665\n",
       "1  LGBMClassifier   0.503652       0.676648      0.676939  0.532581"
      ]
     },
     "execution_count": 570,
     "metadata": {},
     "output_type": "execute_result"
    }
   ],
   "source": [
    "\n",
    "fpr, tpr, thrasholds = roc_curve(y_dev, pred_lgb, pos_label=1)\n",
    "roc_auc1 = auc(fpr, tpr)\n",
    "\n",
    "fpr, tpr, thrasholds = roc_curve(y_dev, pred_lgb_rus, pos_label=1)\n",
    "roc_auc2 = auc(fpr, tpr)\n",
    "\n",
    "fpr, tpr, thrasholds = roc_curve(y_dev, pred_lgb_ros, pos_label=1)\n",
    "roc_auc3 = auc(fpr, tpr)\n",
    "\n",
    "\n",
    "fpr, tpr, thrasholds = roc_curve(y_dev, pred_lgb_smo, pos_label=1)\n",
    "roc_auc4 = auc(fpr, tpr)\n",
    "\n",
    "\n",
    "\n",
    "model_comparison = model_comparison.append({'Model':'LGBMClassifier'\n",
    "                        ,'NoBalance' : roc_auc1\n",
    "                        ,'UnderSampling':roc_auc2\n",
    "                        ,'OverSampling': roc_auc3\n",
    "                        ,'smoth' : roc_auc4} , ignore_index=True)\n",
    "model_comparison"
   ]
  },
  {
   "cell_type": "markdown",
   "metadata": {},
   "source": [
    "#### Testing RandomForestClassifier\n",
    "\n",
    "This will be using regular, under,over and SMOTEENN sampling"
   ]
  },
  {
   "cell_type": "code",
   "execution_count": 571,
   "metadata": {},
   "outputs": [],
   "source": [
    "rf_cls = RandomForestClassifier()\n",
    "rf_cls1 = RandomForestClassifier()\n",
    "rf_cls2 = RandomForestClassifier()\n",
    "rf_cls3 = RandomForestClassifier()"
   ]
  },
  {
   "cell_type": "code",
   "execution_count": 572,
   "metadata": {},
   "outputs": [],
   "source": [
    "rf_model_n = rf_cls.fit(X=X_train_d, y=y_train_d)\n",
    "rf_model_rus = rf_cls1.fit(X=X_resampled_rus, y=y_resampled_rus)\n",
    "rf_model_ros = rf_cls2.fit(X=X_resampled_ros, y=y_resampled_ros)\n",
    "rf_model_smo = rf_cls3.fit(X=X_resampled_smo, y=y_resampled_smo)"
   ]
  },
  {
   "cell_type": "code",
   "execution_count": 573,
   "metadata": {},
   "outputs": [],
   "source": [
    "pred_rf = rf_model_n.predict(X_dev)\n",
    "pred_rf_rus =  rf_model_rus.predict(X_dev)\n",
    "pred_rf_ros = rf_model_ros.predict(X_dev)\n",
    "pred_rf_smo = rf_model_smo.predict(X_dev)"
   ]
  },
  {
   "cell_type": "markdown",
   "metadata": {},
   "source": [
    "test prediction"
   ]
  },
  {
   "cell_type": "code",
   "execution_count": 574,
   "metadata": {},
   "outputs": [
    {
     "data": {
      "text/html": [
       "<div>\n",
       "<style scoped>\n",
       "    .dataframe tbody tr th:only-of-type {\n",
       "        vertical-align: middle;\n",
       "    }\n",
       "\n",
       "    .dataframe tbody tr th {\n",
       "        vertical-align: top;\n",
       "    }\n",
       "\n",
       "    .dataframe thead th {\n",
       "        text-align: right;\n",
       "    }\n",
       "</style>\n",
       "<table border=\"1\" class=\"dataframe\">\n",
       "  <thead>\n",
       "    <tr style=\"text-align: right;\">\n",
       "      <th></th>\n",
       "      <th>Model</th>\n",
       "      <th>NoBalance</th>\n",
       "      <th>UnderSampling</th>\n",
       "      <th>OverSampling</th>\n",
       "      <th>smoth</th>\n",
       "    </tr>\n",
       "  </thead>\n",
       "  <tbody>\n",
       "    <tr>\n",
       "      <th>0</th>\n",
       "      <td>XGBClassifier</td>\n",
       "      <td>0.502025</td>\n",
       "      <td>0.674454</td>\n",
       "      <td>0.676114</td>\n",
       "      <td>0.517665</td>\n",
       "    </tr>\n",
       "    <tr>\n",
       "      <th>1</th>\n",
       "      <td>LGBMClassifier</td>\n",
       "      <td>0.503652</td>\n",
       "      <td>0.676648</td>\n",
       "      <td>0.676939</td>\n",
       "      <td>0.532581</td>\n",
       "    </tr>\n",
       "    <tr>\n",
       "      <th>2</th>\n",
       "      <td>RandomForestClassifier</td>\n",
       "      <td>0.507640</td>\n",
       "      <td>0.628851</td>\n",
       "      <td>0.515782</td>\n",
       "      <td>0.518235</td>\n",
       "    </tr>\n",
       "  </tbody>\n",
       "</table>\n",
       "</div>"
      ],
      "text/plain": [
       "                    Model  NoBalance  UnderSampling  OverSampling     smoth\n",
       "0           XGBClassifier   0.502025       0.674454      0.676114  0.517665\n",
       "1          LGBMClassifier   0.503652       0.676648      0.676939  0.532581\n",
       "2  RandomForestClassifier   0.507640       0.628851      0.515782  0.518235"
      ]
     },
     "execution_count": 574,
     "metadata": {},
     "output_type": "execute_result"
    }
   ],
   "source": [
    "\n",
    "fpr, tpr, thrasholds = roc_curve(y_dev, pred_rf, pos_label=1)\n",
    "roc_auc1 = auc(fpr, tpr)\n",
    "\n",
    "fpr, tpr, thrasholds = roc_curve(y_dev, pred_rf_rus, pos_label=1)\n",
    "roc_auc2 = auc(fpr, tpr)\n",
    "\n",
    "fpr, tpr, thrasholds = roc_curve(y_dev, pred_rf_ros, pos_label=1)\n",
    "roc_auc3 = auc(fpr, tpr)\n",
    "\n",
    "\n",
    "fpr, tpr, thrasholds = roc_curve(y_dev, pred_rf_smo, pos_label=1)\n",
    "roc_auc4 = auc(fpr, tpr)\n",
    "\n",
    "\n",
    "\n",
    "model_comparison = model_comparison.append({'Model':'RandomForestClassifier'\n",
    "                        ,'NoBalance' : roc_auc1\n",
    "                        ,'UnderSampling':roc_auc2\n",
    "                        ,'OverSampling': roc_auc3\n",
    "                        ,'smoth' : roc_auc4} , ignore_index=True)\n",
    "model_comparison"
   ]
  },
  {
   "cell_type": "markdown",
   "metadata": {},
   "source": [
    "so the winner is LGBMClassifier with OverSampling!!"
   ]
  },
  {
   "cell_type": "markdown",
   "metadata": {},
   "source": [
    "### Model Tuneup"
   ]
  },
  {
   "cell_type": "code",
   "execution_count": 14,
   "metadata": {},
   "outputs": [],
   "source": [
    "# A parameter grid for XGBoost\n",
    "params = {\"learning_rate\"    : [0.05, 0.10, 0.15, 0.20, 0.25, 0.30 ] ,\n",
    "             \"max_depth\"        : [ 3, 4, 5, 6, 8, 10, 12, 15],\n",
    "             \"min_child_weight\" : [ 6, 8, 10, 12],\n",
    "             \"gamma\"            : [ 0.0, 0.1, 0.2 , 0.3, 0.4 ],\n",
    "             \"colsample_bytree\" : [ 0.3, 0.4, 0.5 , 0.7 ] ,\n",
    "             \"subsample\":[i/10.0 for i in range(6,10)],\n",
    "             \"colsample_bytree\":[i/10.0 for i in range(6,10)],\n",
    "             \"reg_alpha\":[0.0, 0.1, 0.2, 0.3, 0.4]\n",
    "         }"
   ]
  },
  {
   "cell_type": "code",
   "execution_count": 15,
   "metadata": {},
   "outputs": [],
   "source": [
    "xgb = XGBClassifier(n_estimators=600, silent=True, nthread=1)"
   ]
  },
  {
   "cell_type": "code",
   "execution_count": 16,
   "metadata": {},
   "outputs": [],
   "source": [
    "folds = 20\n",
    "param_comb = 20"
   ]
  },
  {
   "cell_type": "code",
   "execution_count": null,
   "metadata": {},
   "outputs": [
    {
     "name": "stdout",
     "output_type": "stream",
     "text": [
      "Fitting 20 folds for each of 20 candidates, totalling 400 fits\n"
     ]
    },
    {
     "name": "stderr",
     "output_type": "stream",
     "text": [
      "[Parallel(n_jobs=10)]: Done  12 tasks      | elapsed: 19.7min\n"
     ]
    }
   ],
   "source": [
    "skf = StratifiedKFold(n_splits=folds, shuffle = True, random_state = 1001)\n",
    "\n",
    "random_search = RandomizedSearchCV(xgb, param_distributions=params, n_iter=param_comb, scoring='roc_auc', n_jobs=10, cv=skf.split(X_resampled_ros, y_resampled_ros), verbose=3, random_state=1001 )\n",
    "\n",
    "\n",
    "start_time = timer(None) # timing starts\n",
    "random_search.fit(X_resampled_ros, y_resampled_ros)\n",
    "timer(start_time) # timing ends here for \"start_time\" variable"
   ]
  },
  {
   "cell_type": "markdown",
   "metadata": {},
   "source": [
    "Test the prediction"
   ]
  },
  {
   "cell_type": "code",
   "execution_count": 667,
   "metadata": {},
   "outputs": [],
   "source": [
    "xgb = XGBClassifier(n_estimators=600, silent=True, nthread=4, **random_search.best_params_)"
   ]
  },
  {
   "cell_type": "code",
   "execution_count": 668,
   "metadata": {},
   "outputs": [],
   "source": [
    "final_model = xgb_final.fit(X=X_resampled_ros, y=y_resampled_ros)"
   ]
  },
  {
   "cell_type": "code",
   "execution_count": null,
   "metadata": {},
   "outputs": [],
   "source": [
    "final_pred = final_model.predict(fpr, tpr, thrasholds = roc_curve(y_test, final_pred, pos_label=1)\n",
    "roc_auc = auc(fpr, tpr)\n",
    "print(roc_auc))"
   ]
  }
 ],
 "metadata": {
  "kernelspec": {
   "display_name": "Python 3",
   "language": "python",
   "name": "python3"
  },
  "language_info": {
   "codemirror_mode": {
    "name": "ipython",
    "version": 3
   },
   "file_extension": ".py",
   "mimetype": "text/x-python",
   "name": "python",
   "nbconvert_exporter": "python",
   "pygments_lexer": "ipython3",
   "version": "3.6.5"
  }
 },
 "nbformat": 4,
 "nbformat_minor": 2
}
